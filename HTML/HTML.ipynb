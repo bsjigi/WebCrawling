{
 "cells": [
  {
   "cell_type": "code",
   "execution_count": null,
   "metadata": {},
   "outputs": [],
   "source": []
  },
  {
   "cell_type": "code",
   "execution_count": 20,
   "metadata": {},
   "outputs": [],
   "source": [
    "import pandas as pd\n",
    "import requests\n",
    "import bs4\n",
    "def news_get(kw):\n",
    "    url = f'https://news.google.com/rss/search?q={kw}&hl=ko&gl=KR&ceid=KR%3Ako'\n",
    "    response = requests.get(url).text\n",
    "    all_data = bs4.BeautifulSoup(response, 'xml') # 해석기를 갈아끼웠습니다.\n",
    "    all_news = all_data.find_all('item')\n",
    "    all_news_list = []\n",
    "    for news in all_news:\n",
    "        title = news.find('title').text # link 가 제대로 해석이 되지 않았었기 때문에\n",
    "        link = news.find('link').text # BeautifulSoup 해석단계에서 해석기를 직접 정했습니다.\n",
    "        all_news_list.append({'title' : title, 'link' : link})\n",
    "    pd.DataFrame(all_news_list).to_csv(f'C:/Users/user/Desktop/sample/{kw}.csv', encoding='utf-8-sig')"
   ]
  },
  {
   "cell_type": "markdown",
   "metadata": {},
   "source": [
    "### HTML\n",
    "<strong> HTML 이 XML 과 어떻게 다를까?</strong>\n",
    "* XML은 태그 이름이 태그 안에 들어있는 정보의 제목(대표성이 있는 단어) 역할을 합니다.\n",
    "* 그런데 HTML은 태그 이름이 태그 안에 있는 정보와 상관이 없습니다.\n",
    "* HTML 에서는 HTML 태그라고 해서 그래픽 적인 의미, 기능적인 의미를 갖습니다."
   ]
  },
  {
   "cell_type": "code",
   "execution_count": 16,
   "metadata": {},
   "outputs": [
    {
     "data": {
      "text/plain": [
       "['김진욱 이건리',\n",
       " '공수처장 후보',\n",
       " '또 마약 혐의로 입건',\n",
       " '자가격리 중 생일파티',\n",
       " '유튜버 국가비',\n",
       " '내년 2월부터 백신 접종',\n",
       " '백신 접종 시작됐지만',\n",
       " '남양유업 외손녀 황하나',\n",
       " '집행유예 중에',\n",
       " '김근식 서울시장 출마']"
      ]
     },
     "execution_count": 16,
     "metadata": {},
     "output_type": "execute_result"
    }
   ],
   "source": [
    "import requests\n",
    "import bs4\n",
    "def top_10():\n",
    "    url = 'https://search.naver.com/search.naver?where=nexearch&sm=top_hty&fbm=1&ie=utf8&query=jdsdbjak'\n",
    "    one_page = bs4.BeautifulSoup(requests.get(url).text, 'html.parser')\n",
    "    content = one_page.find('div', {'class' : 'list_wrap _content'})\n",
    "    # div이긴 div인데 class 라는 곳에 list_wrap _content 정보가 있는 div.\n",
    "    all_kw = []\n",
    "    for item in content.find_all('span', {'class' : 'txt'}):\n",
    "        # span이긴 span인데 class 라는 곳에 txt 정보가 있는 span.\n",
    "        kw = item.text # 뒤에 .text 붙여서 태그 정보를 지워줍니다.\n",
    "        all_kw.append(kw) # 리스트에 하나씩 추가합니다.\n",
    "    return all_kw\n",
    "top_10()"
   ]
  },
  {
   "cell_type": "code",
   "execution_count": 21,
   "metadata": {},
   "outputs": [],
   "source": [
    "import time\n",
    "for kw in top_10():\n",
    "    news_get(kw)\n",
    "    time.sleep(1)"
   ]
  },
  {
   "cell_type": "markdown",
   "metadata": {},
   "source": [
    "### 베스트 셀러 50권 가져오기\n",
    "* 1. 베스트 셀러 페이지를 요청으로 응답 받아옴\n",
    "* 2. bs4 해석(파싱)\n",
    "* 3. 책 제목이 어떤 순서로 들어있는지(어떤 구조로 데이터가 있나)"
   ]
  },
  {
   "cell_type": "code",
   "execution_count": 29,
   "metadata": {},
   "outputs": [
    {
     "data": {
      "text/plain": [
       "['달러구트 꿈 백화점',\n",
       " '하이큐!! 45',\n",
       " '공정하다는 착각',\n",
       " '마음챙김의 시',\n",
       " '읽기만 하면 내 것이 되는 1페이지 미술 365 (고흐 에디션)',\n",
       " '트렌드 코리아 2021',\n",
       " '추리 천재 엉덩이 탐정 10',\n",
       " '시선으로부터, (10만 부 기념 새해 에디션)',\n",
       " '어떻게 말해줘야 할까',\n",
       " '인소의 법칙 15 (한정판)',\n",
       " '책 먹는 여우의 겨울 이야기',\n",
       " '뉴욕주민의 진짜 미국식 주식투자',\n",
       " '월간순정 노자키 군 12',\n",
       " '니클의 소년들',\n",
       " '해커스 토익 기출 보카 TOEIC VOCA 단어장',\n",
       " '큰별쌤 최태성의 별★별한국사 한국사능력검정시험 심화(1.2.3급) 상',\n",
       " '위기의 시대, 돈의 미래',\n",
       " '일인칭 단수',\n",
       " '미스터 마켓 2021',\n",
       " '나를 부르는 숲',\n",
       " '어린이라는 세계',\n",
       " '큰별쌤 최태성의 별★별한국사 한국사능력검정시험 심화(1.2.3급) 하',\n",
       " '베서니와 괴물의 묘약',\n",
       " '흔한남매 별난 방탈출 1',\n",
       " '흔한남매의 흔한 호기심 2',\n",
       " '미드나잇 선 1',\n",
       " '주린이도 술술 읽는 친절한 주식책',\n",
       " '새벽의 연화 32',\n",
       " '미드나잇 선 2',\n",
       " '이토록 공부가 재미있어지는 순간 (10만 부 기념 스페셜 에디션)',\n",
       " '설민석의 세계사 대모험 7',\n",
       " '방구석 미술관 2 : 한국',\n",
       " 'ETS 토익 정기시험 기출문제집 1000 Vol. 2 Reading (리딩)',\n",
       " '블랙 쇼맨과 이름 없는 마을의 살인',\n",
       " '명랑한 은둔자',\n",
       " 'ETS 토익 정기시험 기출문제집 1000 Vol. 2 Listening (리스닝)',\n",
       " '완벽한 아이',\n",
       " '진격의 거인 32',\n",
       " '책 한번 써봅시다',\n",
       " '나미야 잡화점의 기적 (100쇄 기념 땡큐 에디션)',\n",
       " '이상한 과자 가게 전천당 9',\n",
       " '사랑 수업',\n",
       " '나츠메 우인장 25',\n",
       " '1일 1클래식 1기쁨 (양장 특별판)',\n",
       " '돈의 속성 (100쇄 기념 에디션, 양장)',\n",
       " '엑시트 EXIT',\n",
       " '연년세세',\n",
       " '방구석 미술관 (10만 부 기념 스페셜 에디션)',\n",
       " '이해인의 말',\n",
       " '주식투자 무작정 따라하기']"
      ]
     },
     "execution_count": 29,
     "metadata": {},
     "output_type": "execute_result"
    }
   ],
   "source": [
    "import requests\n",
    "import bs4\n",
    "def best_books():\n",
    "    url = 'https://www.aladin.co.kr/shop/common/wbest.aspx?BranchType=1'\n",
    "    one_page = bs4.BeautifulSoup(requests.get(url).text)\n",
    "    one_page_books = []\n",
    "    for book in one_page.find_all('div', {\"class\" : 'ss_book_box'}):\n",
    "        # 'div', {\"class\" : 'ss_book_box'} -> div 태그가 다 똑같은 것이 아니라\n",
    "        # class 에 ss_book_box 로 되어있는 것이 하나의 책 영역입니다.\n",
    "        # 이를 find_all로 전부 찾으면, 리스트에 들어있는것은\n",
    "        # 하나 하나가 책 한권 한권의 정보입니다.\n",
    "        title = book.find('b').text\n",
    "        # 모든 중간 단계를 전부 건너뛰고 책 제목은 b태그에 있으니까\n",
    "        # b태그만 하나 골라와서 .text로 태그를 지웠습니다.\n",
    "        one_page_books.append(title)\n",
    "    return one_page_books\n",
    "best_books()"
   ]
  },
  {
   "cell_type": "code",
   "execution_count": 30,
   "metadata": {},
   "outputs": [
    {
     "data": {
      "text/plain": [
       "['달러구트 꿈 백화점',\n",
       " '하이큐!! 45',\n",
       " '공정하다는 착각',\n",
       " '마음챙김의 시',\n",
       " '읽기만 하면 내 것이 되는 1페이지 미술 365 (고흐 에디션)',\n",
       " '트렌드 코리아 2021',\n",
       " '추리 천재 엉덩이 탐정 10',\n",
       " '시선으로부터, (10만 부 기념 새해 에디션)',\n",
       " '어떻게 말해줘야 할까',\n",
       " '인소의 법칙 15 (한정판)',\n",
       " '책 먹는 여우의 겨울 이야기',\n",
       " '뉴욕주민의 진짜 미국식 주식투자',\n",
       " '월간순정 노자키 군 12',\n",
       " '니클의 소년들',\n",
       " '해커스 토익 기출 보카 TOEIC VOCA 단어장',\n",
       " '큰별쌤 최태성의 별★별한국사 한국사능력검정시험 심화(1.2.3급) 상',\n",
       " '위기의 시대, 돈의 미래',\n",
       " '일인칭 단수',\n",
       " '미스터 마켓 2021',\n",
       " '나를 부르는 숲',\n",
       " '어린이라는 세계',\n",
       " '큰별쌤 최태성의 별★별한국사 한국사능력검정시험 심화(1.2.3급) 하',\n",
       " '베서니와 괴물의 묘약',\n",
       " '흔한남매 별난 방탈출 1',\n",
       " '흔한남매의 흔한 호기심 2',\n",
       " '미드나잇 선 1',\n",
       " '주린이도 술술 읽는 친절한 주식책',\n",
       " '새벽의 연화 32',\n",
       " '미드나잇 선 2',\n",
       " '이토록 공부가 재미있어지는 순간 (10만 부 기념 스페셜 에디션)',\n",
       " '설민석의 세계사 대모험 7',\n",
       " '방구석 미술관 2 : 한국',\n",
       " 'ETS 토익 정기시험 기출문제집 1000 Vol. 2 Reading (리딩)',\n",
       " '블랙 쇼맨과 이름 없는 마을의 살인',\n",
       " '명랑한 은둔자',\n",
       " 'ETS 토익 정기시험 기출문제집 1000 Vol. 2 Listening (리스닝)',\n",
       " '완벽한 아이',\n",
       " '진격의 거인 32',\n",
       " '책 한번 써봅시다',\n",
       " '나미야 잡화점의 기적 (100쇄 기념 땡큐 에디션)',\n",
       " '이상한 과자 가게 전천당 9',\n",
       " '사랑 수업',\n",
       " '나츠메 우인장 25',\n",
       " '1일 1클래식 1기쁨 (양장 특별판)',\n",
       " '돈의 속성 (100쇄 기념 에디션, 양장)',\n",
       " '엑시트 EXIT',\n",
       " '연년세세',\n",
       " '방구석 미술관 (10만 부 기념 스페셜 에디션)',\n",
       " '이해인의 말',\n",
       " '주식투자 무작정 따라하기']"
      ]
     },
     "execution_count": 30,
     "metadata": {},
     "output_type": "execute_result"
    }
   ],
   "source": [
    "def best_book_page():\n",
    "    url = 'https://www.aladin.co.kr/shop/common/wbest.aspx?BranchType=1'\n",
    "    response = requests.get(url).text # 화면을 구성하는 문자열만 밖으로 뺍니다.\n",
    "    return response # 마지막 수업을 위해 함수를 2 파트로 나누었습니다.\n",
    "def one_page_all_books(response):\n",
    "    one_page = bs4.BeautifulSoup(response)\n",
    "    one_page_books = []# 화면을 구성하는 문자열을 해석해서 책 제목만 가져옵니다.\n",
    "    for book in one_page.find_all('div', {\"class\" : 'ss_book_box'}):\n",
    "        title = book.find('b').text\n",
    "        one_page_books.append(title)\n",
    "    return one_page_books\n",
    "\n",
    "best_page = best_book_page()\n",
    "one_page_all_books(best_page)"
   ]
  },
  {
   "cell_type": "code",
   "execution_count": null,
   "metadata": {},
   "outputs": [],
   "source": []
  },
  {
   "cell_type": "code",
   "execution_count": null,
   "metadata": {},
   "outputs": [],
   "source": []
  },
  {
   "cell_type": "code",
   "execution_count": null,
   "metadata": {},
   "outputs": [],
   "source": []
  },
  {
   "cell_type": "code",
   "execution_count": null,
   "metadata": {},
   "outputs": [],
   "source": []
  },
  {
   "cell_type": "code",
   "execution_count": null,
   "metadata": {},
   "outputs": [],
   "source": []
  },
  {
   "cell_type": "code",
   "execution_count": null,
   "metadata": {},
   "outputs": [],
   "source": []
  },
  {
   "cell_type": "code",
   "execution_count": null,
   "metadata": {},
   "outputs": [],
   "source": []
  },
  {
   "cell_type": "code",
   "execution_count": null,
   "metadata": {},
   "outputs": [],
   "source": []
  },
  {
   "cell_type": "code",
   "execution_count": null,
   "metadata": {},
   "outputs": [],
   "source": []
  },
  {
   "cell_type": "code",
   "execution_count": null,
   "metadata": {},
   "outputs": [],
   "source": []
  },
  {
   "cell_type": "code",
   "execution_count": null,
   "metadata": {},
   "outputs": [],
   "source": []
  },
  {
   "cell_type": "code",
   "execution_count": null,
   "metadata": {},
   "outputs": [],
   "source": []
  },
  {
   "cell_type": "code",
   "execution_count": null,
   "metadata": {},
   "outputs": [],
   "source": []
  },
  {
   "cell_type": "code",
   "execution_count": null,
   "metadata": {},
   "outputs": [],
   "source": []
  },
  {
   "cell_type": "code",
   "execution_count": null,
   "metadata": {},
   "outputs": [],
   "source": []
  },
  {
   "cell_type": "code",
   "execution_count": null,
   "metadata": {},
   "outputs": [],
   "source": []
  },
  {
   "cell_type": "code",
   "execution_count": null,
   "metadata": {},
   "outputs": [],
   "source": []
  },
  {
   "cell_type": "code",
   "execution_count": null,
   "metadata": {},
   "outputs": [],
   "source": []
  },
  {
   "cell_type": "code",
   "execution_count": null,
   "metadata": {},
   "outputs": [],
   "source": []
  },
  {
   "cell_type": "code",
   "execution_count": null,
   "metadata": {},
   "outputs": [],
   "source": []
  },
  {
   "cell_type": "code",
   "execution_count": null,
   "metadata": {},
   "outputs": [],
   "source": []
  },
  {
   "cell_type": "code",
   "execution_count": null,
   "metadata": {},
   "outputs": [],
   "source": []
  },
  {
   "cell_type": "code",
   "execution_count": null,
   "metadata": {},
   "outputs": [],
   "source": []
  },
  {
   "cell_type": "code",
   "execution_count": null,
   "metadata": {},
   "outputs": [],
   "source": []
  }
 ],
 "metadata": {
  "kernelspec": {
   "display_name": "Python 3",
   "language": "python",
   "name": "python3"
  },
  "language_info": {
   "codemirror_mode": {
    "name": "ipython",
    "version": 3
   },
   "file_extension": ".py",
   "mimetype": "text/x-python",
   "name": "python",
   "nbconvert_exporter": "python",
   "pygments_lexer": "ipython3",
   "version": "3.8.5"
  }
 },
 "nbformat": 4,
 "nbformat_minor": 4
}
