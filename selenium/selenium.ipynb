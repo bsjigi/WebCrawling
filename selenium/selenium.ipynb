{
 "cells": [
  {
   "cell_type": "code",
   "execution_count": null,
   "metadata": {},
   "outputs": [],
   "source": []
  },
  {
   "cell_type": "markdown",
   "metadata": {},
   "source": [
    "### 법적 권고안\n",
    "##### robots.txt\n",
    "* 사이트 만들 때, 우리 사이트에서는 여기여기는 가져가셔도 됩니다. / 안되요.\n",
    "* 말 그대로 '권고' 이므로 사용자가(우리가) 지키지 않아도 법적 처벌은 안 받는다.\n",
    "* User-agent : 로봇의 이름(크롤러 이름)\n",
    "* Allow : 어느 영역을 허용할까?\n",
    "* Disallow : 어느 영역을 허용 X\n",
    "* Crawl-delay : 몇 초마다 한 번씩 가져가 주세요~(이 보다 빠르면 싫어요)"
   ]
  },
  {
   "cell_type": "markdown",
   "metadata": {},
   "source": [
    "### 물리 드라이버 - selenium"
   ]
  },
  {
   "cell_type": "code",
   "execution_count": 1,
   "metadata": {},
   "outputs": [
    {
     "name": "stdout",
     "output_type": "stream",
     "text": [
      "Collecting selenium\n",
      "  Downloading selenium-3.141.0-py2.py3-none-any.whl (904 kB)\n",
      "Requirement already satisfied: urllib3 in c:\\users\\user\\anaconda3\\lib\\site-packages (from selenium) (1.25.11)\n",
      "Installing collected packages: selenium\n",
      "Successfully installed selenium-3.141.0\n"
     ]
    }
   ],
   "source": [
    "!pip install selenium"
   ]
  },
  {
   "cell_type": "code",
   "execution_count": 21,
   "metadata": {},
   "outputs": [],
   "source": [
    "from selenium import webdriver\n",
    "import time\n",
    "driver = webdriver.Chrome('chromedriver.exe')\n",
    "time.sleep(2)\n",
    "# driver 변수는 방금 열린 구글 크롬 브라우저입니다.\n",
    "url = 'https://search.naver.com/search.naver?where=nexearch&sm=top_hty&fbm=1&ie=utf8&query=fdfgfg'\n",
    "driver.get(url)\n",
    "time.sleep(2)\n",
    "# requests 이용할 때의 get 과 동일합니다.\n",
    "driver.back()\n",
    "time.sleep(2)\n",
    "# back 은 뒤로가기입니다.\n",
    "driver.close()\n",
    "time.sleep(2)\n",
    "# close 는 끄기입니다."
   ]
  },
  {
   "cell_type": "code",
   "execution_count": 23,
   "metadata": {},
   "outputs": [],
   "source": [
    "from selenium import webdriver\n",
    "import time\n",
    "driver = webdriver.Chrome('chromedriver.exe')\n",
    "time.sleep(2)\n",
    "url = 'https://search.naver.com/search.naver?where=nexearch&sm=top_hty&fbm=1&ie=utf8&query=fdfgfg'\n",
    "driver.get(url)\n",
    "time.sleep(2)\n",
    "response = driver.page_source # requests.get(url)뒤에 .text와 같습니다. \n",
    "# selenium은 결국 화면을 get이나 클릭으로 바꾼 이후에\n",
    "# 화면을 구성하는 구성요소를 내 컴퓨터로 가져올 수 있다는 것입니다."
   ]
  },
  {
   "cell_type": "code",
   "execution_count": 26,
   "metadata": {},
   "outputs": [
    {
     "data": {
      "text/plain": [
       "['이재용에 징역 9년 구형',\n",
       " '노영민 김상조 김종호',\n",
       " '노영민 비서실장',\n",
       " '특검 국정농단',\n",
       " '김상조 정책실장',\n",
       " '검찰개혁 완수',\n",
       " '국정농단 이재용',\n",
       " '아스트라제네카 백신',\n",
       " '이낙연 김종인',\n",
       " '국민 목소리 경청해 검찰개혁 완수']"
      ]
     },
     "execution_count": 26,
     "metadata": {},
     "output_type": "execute_result"
    }
   ],
   "source": [
    "import bs4 # 이 코드는 지난 시간의 top_10 함수로부터\n",
    "# 화면을 구성하는 구성요소를 가져온 직후의 코드입니다.\n",
    "one_page = bs4.BeautifulSoup(response)\n",
    "content = one_page.find('div', {'class' : 'list_wrap _content'})\n",
    "all_kw = []\n",
    "for item in content.find_all('span', {'class' : 'txt'}):\n",
    "    kw = item.text\n",
    "    all_kw.append(kw)\n",
    "all_kw"
   ]
  },
  {
   "cell_type": "code",
   "execution_count": 31,
   "metadata": {},
   "outputs": [],
   "source": [
    "from selenium import webdriver\n",
    "import time\n",
    "driver = webdriver.Chrome('chromedriver.exe')\n",
    "time.sleep(2) # 알라딘 온라인 중고샵에 들어갑니다.\n",
    "url = 'https://www.aladin.co.kr/home/wusedshopmain.aspx?start=we_tab'\n",
    "driver.get(url)\n",
    "time.sleep(2)\n",
    "\n",
    "box_path = '//*[@id=\"SearchWord\"]' # 위치 확인\n",
    "search_box = driver.find_element_by_xpath(box_path) # 선택\n",
    "# element는 화면을 구성하는 구성요소입니다.\n",
    "bth_path = '//*[@id=\"global_search\"]/input' # 위치 확인\n",
    "search_btn = driver.find_element_by_xpath(bth_path) # 선택\n",
    "search_box.send_keys('수학의 정석') # 입력박스에는 문자열 보내기\n",
    "search_btn.click() # 버튼은 클릭하기\n",
    "time.sleep(2)\n",
    "response = driver.page_source\n",
    "one_page_all_books(response)"
   ]
  },
  {
   "cell_type": "code",
   "execution_count": 37,
   "metadata": {},
   "outputs": [
    {
     "name": "stdout",
     "output_type": "stream",
     "text": [
      "[]\n",
      "['달러구트 꿈 백화점 - 주문하신 꿈은 매진입니다']\n",
      "[\"The Tyranny of Merit : What's Become of the Common Good? (Paperback)\", \"The Tyranny of Merit : What's Become of the Common Good? (Paperback)\", '공정하다는 착각']\n",
      "['마음챙김과 심리치료', '마음챙김의 시', '외상 및 외상의 후유증에 대한 마음챙김기반개입', '마음챙김과 심리치료']\n",
      "[]\n",
      "['트렌드 코리아 2021 - 서울대 소비트렌드분석센터의 2021 전망']\n",
      "['시선으로부터, (10만 부 기념 새해 에디션)']\n",
      "[]\n",
      "['해커스 토익 기출 보카 TOEIC VOCA 단어장', '해커스 토익 기출 보카 TOEIC VOCA 단어장']\n",
      "[]\n",
      "['어떻게 말해줘야 할까']\n",
      "['큰별쌤 최태성의 별★별한국사 한국사능력검정시험 심화(1.2.3급) 상']\n",
      "[]\n",
      "['미드나이트 선(Midnight sun) 1-4권 by 아리나 토시미(원서) = 미드나잇썬']\n",
      "['큰별쌤 최태성의 별★별한국사 한국사능력검정시험 심화(1.2.3급) 하']\n",
      "['미드나잇 선', '크러쉬 - 정규 2집 From Midnight To Sunrise']\n",
      "['추리 천재 엉덩이 탐정 1~9+카레 사건 전10권/세트', '추리 천재 엉덩이 탐정 1~9+카레 사건 전10권/세트', '추리 천재 엉덩이 탐정 1~9 +SL1권 (10권)']\n",
      "[]\n",
      "['The First Person Singular (Hardcover)']\n",
      "[]\n",
      "[]\n",
      "[]\n",
      "['나를 부르는 숲', 'A Walk in the Woods: Rediscovering America on the Appalachian Trail (Mass Market Paperback)', '나를 부르는 숲 나를 닮은 길 - 대한민국 명품 숲 길 50곳 :산림조합중앙회 발행', '나를 부르는 숲 나를 닮은 길', '나를 부르는 숲 나를 닮은 길 ', '나를 부르는 숲 나를 닮은 길', 'A Walk in the Woods: Rediscovering America on the Appalachian Trail (Paperback)', '나를부르는숲 나를닮은길', '나를 부르는 숲', '나를 부르는 숲']\n",
      "[]\n",
      "['오늘의 식탁에 초대합니다', '안녕, 나의 별', '플랜더스의 개', '플랜더스의 개', '열려라! 물고기나라', '세상 어린이들이 가장 많이 읽은 25가지 세계명작 - 어린이가 읽기에 알맞은 세계 명작 중 25가지 이야기를 골라 한 권에 실은 동화집.', '3권 한솔교육 한솔어린이 세계문화 1 눈아 눈아 내려라 2 반가워요 3 쉿 비밀이야 / 오주영 외 -설명란참조', '에스파냐 공주의 생일', '일곱 명의 파블로', '초등학생들을 위한 세계 거장들의 그림책 세트 - 전7권', '마법코딩', '화산 원정대', '보고 듣고 생각이 자라는 어린이 세계명작 세트 - 전2권', '북극 탐험 소동', '아버지를 물리쳐라 -(세계적인 청소년 작가가 청소년들에게 들려주는 이야기)', '라 퐁텐 우화가 깔깔깔', '참새와 코알라', '세계 위인전 WHO? (후?) - 오리아나 팔라치', '[수입] 보르초바 : 라다를 위한 노래들, 신세계를 향하여', 'Who? 오리아나 팔라치', '로미오와 줄리엣', '괴테의 파우스트', '네 어린이와 떠나는 신나는 80일간의 세계 일주', '플랜더스의 개 (반양장)', '지혜로운 나탄']\n",
      "['ETS 토익 정기시험 기출문제집 1000 Vol. 2 Reading (리딩)']\n",
      "[]\n",
      "[]\n",
      "['월간순정 노자키 군 1-11+외전 /총12권   ', '월간순정 노자키군 1-11권 세트 + 앤솔로지 총12부', '만화-월간순정 노자키군 1-11권 세트 + 앤솔로지 총12부^^코믹갤러리', '(월간순정) 노자키군 1-11, 외전 /총12권']\n",
      "['ETS 토익 정기시험 기출문제집 1000 Vol. 2 Listening (리스닝)']\n",
      "[]\n",
      "['설민석의 한국사 대모험 1~15번 , 설민석의 세계사 1~7번 세트 전22권', '설민석의 세계사 대모험 1~7번 세트 전7권', '설민석의 세계사 대모험 5~7번 세트 전3권']\n",
      "[]\n",
      "[]\n",
      "[]\n",
      "[]\n",
      "['나의 하루는 4시 30분에 시작된다 - 하루를 두 배로 사는 단 하나의 습관']\n",
      "[]\n",
      "[]\n",
      "['흔한남매3권 + 흔한남매의 흔한 호기심 1권 전2권']\n",
      "[]\n",
      "['완벽한 아이 팔아요', '내 아이를 위한 완벽한 교육법', 'EBS 다큐프라임 퍼펙트 베이비', '옆집에 사는 완벽한 아이', 'I Love Grammar Level 2', '초등 6년이 아이의 인생을 결정한다', 'I Love Grammar Level 1', '아이의 완벽한 식생활', '내 아이와 소통하기', '아이 라이크 미트', 'I Love Grammar Level 3', '해커스 토플 리딩 (Hackers TOEFL Reading)', '해커스 토플 리스닝 (Hackers TOEFL Listening) (4rd iBT Edition)', '나는 내 아이의 가장 완벽한 부모입니다', '아이 러브 머니 I Love Money', '6살부터 10살까지 똑똑한 우리 아이를 위한 영재교육 매뉴얼', 'EBS 다큐프라임 퍼펙트 베이비 - 완벽한 아이를 위한 결정적 조건 (가정/상품설명참조/2)', 'EBS 다큐프라임 퍼펙트 베이비 - 완벽한 아이를 위한 결정적 조건 ', '슈퍼차일드 - 부모의 과도한 기대와 걱정을 짊어진 완벽한 아이(가정/2)', '아이는 완벽한 부모보다 지혜로운 부모를 원한다 (가정/2)', '아이는 완벽한 부모보다 지혜로운 부모를 원한다 - 육아를 하며 흔히 겪는 일들에 대해 조언', '아이는 완벽한 부모보다 지혜로운 부모를 원한다', '한 권으로 끝내는 오라클 11g부터 12c 완벽 바이블', 'e 메일 훔쳐보기', '만화 스토리 창작의 모든 것']\n",
      "['명랑한 은둔자']\n",
      "['해커스 토익 실전 1000제 1 RC 리딩 문제집 (Hackers TOEIC Reading)', '해커스 토익 RC 리딩 READING', '해커스 토익 스타트 리딩 RC', '해커스 토익 실전 1000제 2 RC 리딩 문제집 (Hackers TOEIC Reading)', '해커스 토익 왕기초 RC Reading 리딩', '해커스 토익 실전 1000제 3 RC 리딩 문제집 (Hackers TOEIC Reading 신토익 Edition)', '해커스 신토익 중급 리딩 RC (Hackers TOEIC RC)', '해커스 토익 실전 1000제 1 RC 리딩 해설집 (Hackers TOEIC Reading)', '[세트] 해커스 토익 실전 1000제 1 RC 리딩 문제집 + LC 리스닝 문제집 - 전2권', '해커스 토익 실전 1000제 2 RC 리딩 해설집 (Hackers TOEIC Reading)', '[세트] 해커스 토익 1000제 2 LC 리스닝 문제집 + RC 리딩 문제집 세트- 전2권', '해커스 토익 실전 1000제 3 RC 리딩 해설집 (Hackers TOEIC Reading 신토익 Edition)', '[세트] 해커스 토익 1200제 RC 리딩 + LC 리스닝 세트 - 전2권', '해커스 토익 실전 1200제 READING', '[세트] 해커스 토익 1000제 2 LC 리스닝(문제집+해설집) + RC 리딩(문제집+해설집) 세트 - 전4권', '해커스 토익 Part 7 집중공략 777', '해커스 토익 RC 리딩 (Hackers TOEIC Reading)', '해커스 토익 RC 리딩 (Hackers TOEIC Reading 비매품', '해커스 토익 RC 리딩 (Hackers TOEIC Reading)', '해커스 어학연구소 / 개정 3판 해커스 토익 스타트 Reading RC / David Cho -부록모름. 꼭상세란참조', '해커스 어학연구소 / 개정7판 해커스 토익 READING RC / David Cho -문제풀이많이함.꼭상세란참조', '해커스 신토익 중급 리딩 RC (Hackers TOEIC RC)', '해커스 토익 스타트 리딩 RC (2016년 판)', '해커스 토익 실전 1000제 2 Reading 해설집 (문제집 별매)', '해커스 토익 실전 1000제. 1 Reading(리딩) 문제집 (신토익 Edition) (해설집 별매)']\n",
      "['주식투자 무작정 따라하기', '만화 주식투자 무작정 따라하기', '주식투자로 성공한 부자아빠 무작정 따라하기', 'ETF 투자 무작정 따라하기', '주식투자 무작정 따라하기 (왕초보가 미리 따라해 보고 행복해진 책)', '주식투자 무작정 따라하기(속 소책자 유망 테마주) + 토막 소설로 배우는 주식투자(비매품)- 최신개정판, 60만 왕초보가 감동했다! 완벽한 투자입문서!', '만화 주식투자 무작정 따라하기 (맨처음 시작하는 왕초보주식공부) 2011판', '주식투자 무작정 따라하기 (왕초보가 미리 따라해 보고 행복해진 책)', '주식투자 무작정 따라하기 (경제/큰책/상품설명참조/2)', '주식투자 무작정 따라하기 by 윤재수', '길벗 / 2차 개정판 주식투자 무작정 따라하기 + 부록 유망테마주 / 윤재수 지음 -꼭상세란참조', '주식투자 무작정 따라하기 (경제/큰책/상품설명참조/2)', '만화 주식투자 무작정 따라하기 - 맨 처음 시작하는 왕초보 주식공부! (경제/상품설명참조/2)', '주식투자 무작정 따라하기 - 전면개정신판 (경제)', '주식투자 무작정 따라하기', '주식투자 무작정 따라하기', '주식투자 무작정 따라하기', '주식투자 무작정 따라하기', '주식투자 무작정 따라하기', '주식투자 무작정 따라하기 2 : ETF편', '주식투자 무작정 따라하기', '주식투자 무작정 따라하기 2 : ETF편', '만화 주식투자 무작정 따라하기', '주식투자 무작정 따라하기 2 : ETF편', '만화 주식투자 무작정 따라하기']\n",
      "['돈의 속성 (100쇄 기념 에디션)']\n",
      "[]\n",
      "['방구석 미술관 (10만 부 기념 스페셜 에디션)']\n",
      "[]\n",
      "[]\n"
     ]
    }
   ],
   "source": [
    "from selenium import webdriver\n",
    "import requests\n",
    "import time\n",
    "driver = webdriver.Chrome('chromedriver.exe')\n",
    "time.sleep(2) # 알라딘 온라인 중고샵에 들어갑니다.\n",
    "url = 'https://www.aladin.co.kr/home/wusedshopmain.aspx?start=we_tab'\n",
    "driver.get(url)\n",
    "time.sleep(2)\n",
    "best_books = one_page_all_books(best_book_page())\n",
    "for best in best_books: # 베스트셀러 책 50권을 하나씩 가져옵니다.\n",
    "    box_path = '//*[@id=\"SearchWord\"]' # 위치 확인\n",
    "    search_box = driver.find_element_by_xpath(box_path) # 선택\n",
    "    # element는 화면을 구성하는 구성요소입니다.\n",
    "    bth_path = '//*[@id=\"global_search\"]/input' # 위치 확인\n",
    "    search_btn = driver.find_element_by_xpath(bth_path) # 선택\n",
    "    search_box.clear() # 기존에 써져있던 것 전부 지우는 메서드\n",
    "    search_box.send_keys(best) # 입력박스에는 문자열 보내기\n",
    "    search_btn.click() # 버튼은 클릭하기\n",
    "    time.sleep(2)\n",
    "    response = driver.page_source\n",
    "    all_result = one_page_all_books(response)\n",
    "    print(all_result)\n",
    "    # 이후 딕셔너리 만들어서 리스트에 차곡차곡 넣을 수 있고\n",
    "    # 그러면 지난 수업에서 다룬 데이터 프레임화 변환 가능\n",
    "    # 데이터 프레임은 저장이 가능합니다."
   ]
  },
  {
   "cell_type": "code",
   "execution_count": 35,
   "metadata": {},
   "outputs": [],
   "source": [
    "import requests\n",
    "def best_book_page():\n",
    "    url = 'https://www.aladin.co.kr/shop/common/wbest.aspx?BranchType=1'\n",
    "    response = requests.get(url).text # 화면을 구성하는 문자열만 밖으로 뺍니다.\n",
    "    return response # 마지막 수업을 위해 함수를 2 파트로 나누었습니다.\n",
    "def one_page_all_books(response):\n",
    "    one_page = bs4.BeautifulSoup(response)\n",
    "    one_page_books = []# 화면을 구성하는 문자열을 해석해서 책 제목만 가져옵니다.\n",
    "    for book in one_page.find_all('div', {\"class\" : 'ss_book_box'}):\n",
    "        title = book.find('b').text\n",
    "        one_page_books.append(title)\n",
    "    return one_page_books"
   ]
  },
  {
   "cell_type": "code",
   "execution_count": null,
   "metadata": {},
   "outputs": [],
   "source": []
  },
  {
   "cell_type": "code",
   "execution_count": null,
   "metadata": {},
   "outputs": [],
   "source": []
  },
  {
   "cell_type": "code",
   "execution_count": null,
   "metadata": {},
   "outputs": [],
   "source": []
  },
  {
   "cell_type": "code",
   "execution_count": null,
   "metadata": {},
   "outputs": [],
   "source": []
  },
  {
   "cell_type": "code",
   "execution_count": null,
   "metadata": {},
   "outputs": [],
   "source": []
  },
  {
   "cell_type": "code",
   "execution_count": null,
   "metadata": {},
   "outputs": [],
   "source": []
  },
  {
   "cell_type": "code",
   "execution_count": null,
   "metadata": {},
   "outputs": [],
   "source": []
  },
  {
   "cell_type": "code",
   "execution_count": null,
   "metadata": {},
   "outputs": [],
   "source": []
  }
 ],
 "metadata": {
  "kernelspec": {
   "display_name": "Python 3",
   "language": "python",
   "name": "python3"
  },
  "language_info": {
   "codemirror_mode": {
    "name": "ipython",
    "version": 3
   },
   "file_extension": ".py",
   "mimetype": "text/x-python",
   "name": "python",
   "nbconvert_exporter": "python",
   "pygments_lexer": "ipython3",
   "version": "3.8.5"
  }
 },
 "nbformat": 4,
 "nbformat_minor": 4
}
