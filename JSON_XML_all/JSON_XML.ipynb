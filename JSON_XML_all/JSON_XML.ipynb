{
 "cells": [
  {
   "cell_type": "code",
   "execution_count": null,
   "metadata": {},
   "outputs": [],
   "source": []
  },
  {
   "cell_type": "markdown",
   "metadata": {},
   "source": [
    "### XML을 대처하는 두 가지 방법\n",
    "* 1. 딕셔너리처럼 다루는 방법(딕셔너리로 변환)\n",
    "* 2. 새로운 접근법을 적용"
   ]
  },
  {
   "cell_type": "code",
   "execution_count": 1,
   "metadata": {},
   "outputs": [
    {
     "data": {
      "text/plain": [
       "'<?xml version=\"1.0\" encoding=\"UTF-8\" ?>\\n<rss version=\"2.0\">\\n<channel>\\n<title>기상청 동네예보 웹서비스 - 경기도 수원시영통구 영통2동 도표예보</title>\\n<link>http://www.kma.go.kr/weather/main.jsp</link>\\n<description>동네예보 웹서비스</description>\\n<language>ko</language>\\n<generator>동네예보</generator>\\n<pubDate>2020년 12월 21일 (월)요일 20:00</pubDate>\\n <item>\\n<author>기상청</author>\\n<category>경기도 수원시영통구 영통2동</category>\\n<title>동네예보(도표) : 경기도 수원시영통구 영통2동 [X=61,Y=120]</title><link>http://www.kma.go.kr/weather/forecast/timeseries.jsp?searchType=INTEREST&amp;dongCode=4111758000</link>\\n<guid>http://www.kma.go.kr/weather/forecast/timeseries.jsp?searchType=INTEREST&amp;dongCode=4111758000</guid>\\n<description>\\n <header>\\n  <tm>202012212000</tm>\\n  <ts>6</ts>\\n  <x>61</x>\\n  <y>120</y>\\n </header>\\n <body>\\n  <data seq=\"0\">\\n   <hour>24</hour>\\n   <day>0</day>\\n   <temp>-2.0</temp>\\n   <tmx>-999.0</tmx>\\n   <tmn>-999.0</tmn>\\n   <sky>4</sky>\\n   <pty>0</pty>\\n   <wfKor>흐림</wfKor>\\n   <wfEn>Cloudy</wfEn>\\n   <pop>30</pop>\\n   <r12>0.0</r12>\\n   <s12>0.0</s12>\\n   <ws>0.9</ws>\\n   <wd>3</wd>\\n   <wdKor>남동</wdKor>\\n   <wdEn>SE</wdEn>\\n   <reh>80</reh>\\n   <r06>0.0</r06>\\n   <s06>0.0</s06>\\n  </data>\\n  <data seq=\"1\">\\n   <hour>3</hour>\\n   <day>1</day>\\n   <temp>-1.0</temp>\\n   <tmx>7.0</tmx>\\n   <tmn>-2.0</tmn>\\n   <sky>4</sky>\\n   <pty>0</pty>\\n   <wfKor>흐림</wfKor>\\n   <wfEn>Cloudy</wfEn>\\n   <pop>30</pop>\\n   <r12>0.0</r12>\\n   <s12>0.0</s12>\\n   <ws>0.9</ws>\\n   <wd>3</wd>\\n   <wdKor>남동</wdKor>\\n   <wdEn>SE</wdEn>\\n   <reh>85</reh>\\n   <r06>0.0</r06>\\n   <s06>0.0</s06>\\n  </data>\\n  <data seq=\"2\">\\n   <hour>6</hour>\\n   <day>1</day>\\n   <temp>-2.0</temp>\\n   <tmx>7.0</tmx>\\n   <tmn>-2.0</tmn>\\n   <sky>4</sky>\\n   <pty>0</pty>\\n   <wfKor>흐림</wfKor>\\n   <wfEn>Cloudy</wfEn>\\n   <pop>30</pop>\\n   <r12>0.0</r12>\\n   <s12>0.0</s12>\\n   <ws>1.2000000000000002</ws>\\n   <wd>3</wd>\\n   <wdKor>남동</wdKor>\\n   <wdEn>SE</wdEn>\\n   <reh>90</reh>\\n   <r06>0.0</r06>\\n   <s06>0.0</s06>\\n  </data>\\n  <data seq=\"3\">\\n   <hour>9</hour>\\n   <day>1</day>\\n   <temp>0.0</temp>\\n   <tmx>7.0</tmx>\\n   <tmn>-2.0</tmn>\\n   <sky>3</sky>\\n   <pty>0</pty>\\n   <wfKor>구름 많음</wfKor>\\n   <wfEn>Mostly Cloudy</wfEn>\\n   <pop>20</pop>\\n   <r12>0.0</r12>\\n   <s12>0.0</s12>\\n   <ws>1.1</ws>\\n   <wd>4</wd>\\n   <wdKor>남</wdKor>\\n   <wdEn>S</wdEn>\\n   <reh>85</reh>\\n   <r06>0.0</r06>\\n   <s06>0.0</s06>\\n  </data>\\n  <data seq=\"4\">\\n   <hour>12</hour>\\n   <day>1</day>\\n   <temp>5.0</temp>\\n   <tmx>7.0</tmx>\\n   <tmn>-2.0</tmn>\\n   <sky>3</sky>\\n   <pty>0</pty>\\n   <wfKor>구름 많음</wfKor>\\n   <wfEn>Mostly Cloudy</wfEn>\\n   <pop>20</pop>\\n   <r12>0.0</r12>\\n   <s12>0.0</s12>\\n   <ws>2.8000000000000003</ws>\\n   <wd>6</wd>\\n   <wdKor>서</wdKor>\\n   <wdEn>W</wdEn>\\n   <reh>55</reh>\\n   <r06>0.0</r06>\\n   <s06>0.0</s06>\\n  </data>\\n  <data seq=\"5\">\\n   <hour>15</hour>\\n   <day>1</day>\\n   <temp>7.0</temp>\\n   <tmx>7.0</tmx>\\n   <tmn>-2.0</tmn>\\n   <sky>1</sky>\\n   <pty>0</pty>\\n   <wfKor>맑음</wfKor>\\n   <wfEn>Clear</wfEn>\\n   <pop>0</pop>\\n   <r12>0.0</r12>\\n   <s12>0.0</s12>\\n   <ws>3.3000000000000003</ws>\\n   <wd>6</wd>\\n   <wdKor>서</wdKor>\\n   <wdEn>W</wdEn>\\n   <reh>45</reh>\\n   <r06>0.0</r06>\\n   <s06>0.0</s06>\\n  </data>\\n  <data seq=\"6\">\\n   <hour>18</hour>\\n   <day>1</day>\\n   <temp>3.0</temp>\\n   <tmx>7.0</tmx>\\n   <tmn>-2.0</tmn>\\n   <sky>1</sky>\\n   <pty>0</pty>\\n   <wfKor>맑음</wfKor>\\n   <wfEn>Clear</wfEn>\\n   <pop>0</pop>\\n   <r12>0.0</r12>\\n   <s12>0.0</s12>\\n   <ws>1.3</ws>\\n   <wd>6</wd>\\n   <wdKor>서</wdKor>\\n   <wdEn>W</wdEn>\\n   <reh>70</reh>\\n   <r06>0.0</r06>\\n   <s06>0.0</s06>\\n  </data>\\n  <data seq=\"7\">\\n   <hour>21</hour>\\n   <day>1</day>\\n   <temp>1.0</temp>\\n   <tmx>7.0</tmx>\\n   <tmn>-2.0</tmn>\\n   <sky>1</sky>\\n   <pty>0</pty>\\n   <wfKor>맑음</wfKor>\\n   <wfEn>Clear</wfEn>\\n   <pop>0</pop>\\n   <r12>0.0</r12>\\n   <s12>0.0</s12>\\n   <ws>1.0</ws>\\n   <wd>4</wd>\\n   <wdKor>남</wdKor>\\n   <wdEn>S</wdEn>\\n   <reh>80</reh>\\n   <r06>0.0</r06>\\n   <s06>0.0</s06>\\n  </data>\\n  <data seq=\"8\">\\n   <hour>24</hour>\\n   <day>1</day>\\n   <temp>-1.0</temp>\\n   <tmx>7.0</tmx>\\n   <tmn>-2.0</tmn>\\n   <sky>1</sky>\\n   <pty>0</pty>\\n   <wfKor>맑음</wfKor>\\n   <wfEn>Clear</wfEn>\\n   <pop>0</pop>\\n   <r12>0.0</r12>\\n   <s12>0.0</s12>\\n   <ws>1.2000000000000002</ws>\\n   <wd>3</wd>\\n   <wdKor>남동</wdKor>\\n   <wdEn>SE</wdEn>\\n   <reh>90</reh>\\n   <r06>0.0</r06>\\n   <s06>0.0</s06>\\n  </data>\\n  <data seq=\"9\">\\n   <hour>3</hour>\\n   <day>2</day>\\n   <temp>-1.0</temp>\\n   <tmx>8.0</tmx>\\n   <tmn>-1.0</tmn>\\n   <sky>1</sky>\\n   <pty>0</pty>\\n   <wfKor>맑음</wfKor>\\n   <wfEn>Clear</wfEn>\\n   <pop>0</pop>\\n   <r12>0.0</r12>\\n   <s12>0.0</s12>\\n   <ws>1.3</ws>\\n   <wd>3</wd>\\n   <wdKor>남동</wdKor>\\n   <wdEn>SE</wdEn>\\n   <reh>90</reh>\\n   <r06>0.0</r06>\\n   <s06>0.0</s06>\\n  </data>\\n  <data seq=\"10\">\\n   <hour>6</hour>\\n   <day>2</day>\\n   <temp>0.0</temp>\\n   <tmx>8.0</tmx>\\n   <tmn>-1.0</tmn>\\n   <sky>1</sky>\\n   <pty>0</pty>\\n   <wfKor>맑음</wfKor>\\n   <wfEn>Clear</wfEn>\\n   <pop>0</pop>\\n   <r12>0.0</r12>\\n   <s12>0.0</s12>\\n   <ws>1.6</ws>\\n   <wd>4</wd>\\n   <wdKor>남</wdKor>\\n   <wdEn>S</wdEn>\\n   <reh>90</reh>\\n   <r06>0.0</r06>\\n   <s06>0.0</s06>\\n  </data>\\n  <data seq=\"11\">\\n   <hour>9</hour>\\n   <day>2</day>\\n   <temp>2.0</temp>\\n   <tmx>8.0</tmx>\\n   <tmn>-1.0</tmn>\\n   <sky>4</sky>\\n   <pty>0</pty>\\n   <wfKor>흐림</wfKor>\\n   <wfEn>Cloudy</wfEn>\\n   <pop>30</pop>\\n   <r12>0.0</r12>\\n   <s12>0.0</s12>\\n   <ws>2.0</ws>\\n   <wd>4</wd>\\n   <wdKor>남</wdKor>\\n   <wdEn>S</wdEn>\\n   <reh>85</reh>\\n   <r06>0.0</r06>\\n   <s06>0.0</s06>\\n  </data>\\n  <data seq=\"12\">\\n   <hour>12</hour>\\n   <day>2</day>\\n   <temp>7.0</temp>\\n   <tmx>8.0</tmx>\\n   <tmn>-1.0</tmn>\\n   <sky>1</sky>\\n   <pty>0</pty>\\n   <wfKor>맑음</wfKor>\\n   <wfEn>Clear</wfEn>\\n   <pop>0</pop>\\n   <r12>0.0</r12>\\n   <s12>0.0</s12>\\n   <ws>2.5</ws>\\n   <wd>4</wd>\\n   <wdKor>남</wdKor>\\n   <wdEn>S</wdEn>\\n   <reh>70</reh>\\n   <r06>0.0</r06>\\n   <s06>0.0</s06>\\n  </data>\\n  <data seq=\"13\">\\n   <hour>15</hour>\\n   <day>2</day>\\n   <temp>8.0</temp>\\n   <tmx>8.0</tmx>\\n   <tmn>-1.0</tmn>\\n   <sky>3</sky>\\n   <pty>0</pty>\\n   <wfKor>구름 많음</wfKor>\\n   <wfEn>Mostly Cloudy</wfEn>\\n   <pop>20</pop>\\n   <r12>0.0</r12>\\n   <s12>0.0</s12>\\n   <ws>2.7</ws>\\n   <wd>5</wd>\\n   <wdKor>남서</wdKor>\\n   <wdEn>SW</wdEn>\\n   <reh>65</reh>\\n   <r06>0.0</r06>\\n   <s06>0.0</s06>\\n  </data>\\n  <data seq=\"14\">\\n   <hour>18</hour>\\n   <day>2</day>\\n   <temp>6.0</temp>\\n   <tmx>8.0</tmx>\\n   <tmn>-1.0</tmn>\\n   <sky>4</sky>\\n   <pty>0</pty>\\n   <wfKor>흐림</wfKor>\\n   <wfEn>Cloudy</wfEn>\\n   <pop>30</pop>\\n   <r12>0.0</r12>\\n   <s12>0.0</s12>\\n   <ws>1.2000000000000002</ws>\\n   <wd>4</wd>\\n   <wdKor>남</wdKor>\\n   <wdEn>S</wdEn>\\n   <reh>85</reh>\\n   <r06>0.0</r06>\\n   <s06>0.0</s06>\\n  </data>\\n  <data seq=\"15\">\\n   <hour>21</hour>\\n   <day>2</day>\\n   <temp>4.0</temp>\\n   <tmx>8.0</tmx>\\n   <tmn>-1.0</tmn>\\n   <sky>4</sky>\\n   <pty>0</pty>\\n   <wfKor>흐림</wfKor>\\n   <wfEn>Cloudy</wfEn>\\n   <pop>30</pop>\\n   <r12>0.0</r12>\\n   <s12>0.0</s12>\\n   <ws>2.1</ws>\\n   <wd>4</wd>\\n   <wdKor>남</wdKor>\\n   <wdEn>S</wdEn>\\n   <reh>90</reh>\\n   <r06>0.0</r06>\\n   <s06>0.0</s06>\\n  </data>\\n  <data seq=\"16\">\\n   <hour>24</hour>\\n   <day>2</day>\\n   <temp>5.0</temp>\\n   <tmx>8.0</tmx>\\n   <tmn>-1.0</tmn>\\n   <sky>4</sky>\\n   <pty>0</pty>\\n   <wfKor>흐림</wfKor>\\n   <wfEn>Cloudy</wfEn>\\n   <pop>30</pop>\\n   <r12>0.0</r12>\\n   <s12>0.0</s12>\\n   <ws>1.8</ws>\\n   <wd>4</wd>\\n   <wdKor>남</wdKor>\\n   <wdEn>S</wdEn>\\n   <reh>95</reh>\\n   <r06>0.0</r06>\\n   <s06>0.0</s06>\\n  </data>\\n </body>\\n</description>\\n</item>\\n</channel>\\n</rss>'"
      ]
     },
     "execution_count": 1,
     "metadata": {},
     "output_type": "execute_result"
    }
   ],
   "source": [
    "import requests\n",
    "url = 'http://www.kma.go.kr/wid/queryDFSRSS.jsp?zone=4111758000'\n",
    "requests.get(url).text\n",
    "# 기존 JSON을 다룰 때에는 .json() 메서드로 비로 딕셔너리로 바꿔주었으나\n",
    "# xml의 경우 변환과정이 한 단계 더 필요합니다.\n",
    "# 이를 위해 일단 내 컴퓨터로 오는 응답 내용을 .text 를 이용해\n",
    "# 문자열로 바꿨습니다."
   ]
  },
  {
   "cell_type": "code",
   "execution_count": 2,
   "metadata": {},
   "outputs": [
    {
     "name": "stdout",
     "output_type": "stream",
     "text": [
      "Requirement already satisfied: xmltodict in c:\\users\\user\\anaconda3\\lib\\site-packages (0.12.0)\n"
     ]
    }
   ],
   "source": [
    "!pip install xmltodict"
   ]
  },
  {
   "cell_type": "code",
   "execution_count": 10,
   "metadata": {},
   "outputs": [
    {
     "data": {
      "text/plain": [
       "'기상청 동네예보 웹서비스 - 경기도 수원시영통구 영통2동 도표예보'"
      ]
     },
     "execution_count": 10,
     "metadata": {},
     "output_type": "execute_result"
    }
   ],
   "source": [
    "import requests\n",
    "import xmltodict\n",
    "url = 'http://www.kma.go.kr/wid/queryDFSRSS.jsp?zone=4111758000'\n",
    "response = requests.get(url).text\n",
    "weather_data = xmltodict.parse(response)\n",
    "# parse 는 해석 / 해독인데, 안에 들어있는 정보는 바꾸지 않고\n",
    "# 형식만 바꾸는 것입니다.\n",
    "weather_data['rss']['channel']['title']\n",
    "# JSON 했을때와 마찬가지로 동일한 접근법 이용해\n",
    "# .keys 메서드로 키를 찾아 들어갈 수 있겠습니다."
   ]
  },
  {
   "cell_type": "code",
   "execution_count": 26,
   "metadata": {},
   "outputs": [
    {
     "data": {
      "text/plain": [
       "odict_keys(['@seq', 'hour', 'day', 'temp', 'tmx', 'tmn', 'sky', 'pty', 'wfKor', 'wfEn', 'pop', 'r12', 's12', 'ws', 'wd', 'wdKor', 'wdEn', 'reh', 'r06', 's06'])"
      ]
     },
     "execution_count": 26,
     "metadata": {},
     "output_type": "execute_result"
    }
   ],
   "source": [
    "import requests\n",
    "import xmltodict\n",
    "url = 'http://www.kma.go.kr/wid/queryDFSRSS.jsp?zone=4111758000'\n",
    "response = requests.get(url).text\n",
    "weather_data = xmltodict.parse(response)\n",
    "weather_list = weather_data['rss']['channel']['item']['description']['body']['data']\n",
    "# 에러가 발생했던 이유는, 리스트였기 때문에  리스트는 .keys 메서드가 없어서\n",
    "weather_list[2].keys()\n",
    "# 리스트이기 때문에 인덱싱 가능."
   ]
  },
  {
   "cell_type": "code",
   "execution_count": 18,
   "metadata": {},
   "outputs": [
    {
     "name": "stdout",
     "output_type": "stream",
     "text": [
      "1\n",
      "2\n",
      "3\n",
      "4\n",
      "5\n"
     ]
    }
   ],
   "source": [
    "sample = [1, 2, 3, 4, 5]\n",
    "for a in sample: # 리스트는 for문으로 하나씩 뽑아 쓸 수 있습니다.\n",
    "    print(a)"
   ]
  },
  {
   "cell_type": "code",
   "execution_count": 19,
   "metadata": {},
   "outputs": [
    {
     "ename": "AttributeError",
     "evalue": "'list' object has no attribute 'keys'",
     "output_type": "error",
     "traceback": [
      "\u001b[1;31m---------------------------------------------------------------------------\u001b[0m",
      "\u001b[1;31mAttributeError\u001b[0m                            Traceback (most recent call last)",
      "\u001b[1;32m<ipython-input-19-257363574562>\u001b[0m in \u001b[0;36m<module>\u001b[1;34m\u001b[0m\n\u001b[1;32m----> 1\u001b[1;33m \u001b[0msample\u001b[0m\u001b[1;33m.\u001b[0m\u001b[0mkeys\u001b[0m\u001b[1;33m(\u001b[0m\u001b[1;33m)\u001b[0m\u001b[1;33m\u001b[0m\u001b[1;33m\u001b[0m\u001b[0m\n\u001b[0m",
      "\u001b[1;31mAttributeError\u001b[0m: 'list' object has no attribute 'keys'"
     ]
    }
   ],
   "source": [
    "sample.keys()"
   ]
  },
  {
   "cell_type": "code",
   "execution_count": 27,
   "metadata": {},
   "outputs": [
    {
     "name": "stdout",
     "output_type": "stream",
     "text": [
      "흐림\n",
      "흐림\n",
      "흐림\n",
      "구름 많음\n",
      "구름 많음\n",
      "맑음\n",
      "맑음\n",
      "맑음\n",
      "맑음\n",
      "맑음\n",
      "맑음\n",
      "흐림\n",
      "맑음\n",
      "구름 많음\n",
      "흐림\n",
      "흐림\n",
      "흐림\n"
     ]
    }
   ],
   "source": [
    "import requests\n",
    "import xmltodict\n",
    "url = 'http://www.kma.go.kr/wid/queryDFSRSS.jsp?zone=4111758000'\n",
    "response = requests.get(url).text\n",
    "weather_data = xmltodict.parse(response)\n",
    "weather_list = weather_data['rss']['channel']['item']['description']['body']['data']\n",
    "for one in weather_list:\n",
    "    # 리스트는 for 문으로 하나씩 뽑아서 쓸 수 있기 때문에 이를 이용.\n",
    "    weather = one['wfKor']\n",
    "    print(weather)"
   ]
  },
  {
   "cell_type": "code",
   "execution_count": 2,
   "metadata": {},
   "outputs": [
    {
     "name": "stdout",
     "output_type": "stream",
     "text": [
      "1 9 맑음\n"
     ]
    }
   ],
   "source": [
    "import requests\n",
    "import xmltodict\n",
    "url = 'http://www.kma.go.kr/wid/queryDFSRSS.jsp?zone=4111758000'\n",
    "response = requests.get(url).text\n",
    "weather_data = xmltodict.parse(response)\n",
    "weather_list = weather_data['rss']['channel']['item']['description']['body']['data']\n",
    "for one in weather_list:\n",
    "    weather = one['wfKor']\n",
    "    day = one['day']\n",
    "    hour = one['hour']\n",
    "    if day == '1':\n",
    "        if hour == '9':\n",
    "            print(day, hour, weather)\n",
    "# 위 예제코드로 실행했을 때 왜 내일 아침 9시의 정보가 화면에 나오지 않는 것인가?\n",
    "# Hint : 컴퓨터는 정직하다."
   ]
  },
  {
   "cell_type": "code",
   "execution_count": 7,
   "metadata": {},
   "outputs": [],
   "source": [
    "import requests\n",
    "import xmltodict\n",
    "import pandas as pd\n",
    "url = 'https://news.google.com/rss/search?q=펭수&hl=ko&gl=KR&ceid=KR%3Ako'\n",
    "# .com 뒤에 /rss 를 직접 추가하였습니다. 이 것을 넣으면 내 컴퓨터로 xml이 옵니다.\n",
    "response = requests.get(url).text\n",
    "all_data = xmltodict.parse(response)\n",
    "news_list = all_data['rss']['channel']['item']\n",
    "all_news_list = []\n",
    "for news in news_list:\n",
    "    title = news['title']\n",
    "    link = news['link']\n",
    "    all_news_list.append({'title' : title, 'link' : link})\n",
    "pd.DataFrame(all_news_list).to_csv('펭수.csv', encoding='utf-8-sig')\n",
    "# encoding='utf-8-sig' -> 저장하는 방식을 지정한 것입니다.\n",
    "# 이거 안 넣고 저장한 후에 엑셀로 열어보면 한글이 깨지게 되는데\n",
    "# 한글 깨짐은 저장된 형식과 읽을때의 형식이 서로 달라서 생김."
   ]
  },
  {
   "cell_type": "markdown",
   "metadata": {},
   "source": [
    "### 새 친구 BeautifulSoup 을 만나봅니다."
   ]
  },
  {
   "cell_type": "code",
   "execution_count": 22,
   "metadata": {},
   "outputs": [],
   "source": [
    "'''\n",
    "import pandas as pd\n",
    "import requests\n",
    "import bs4\n",
    "url = 'https://news.google.com/rss/search?q=펭수&hl=ko&gl=KR&ceid=KR%3Ako'\n",
    "response = requests.get(url).text\n",
    "all_data = bs4.BeautifulSoup(response)  # 여기 달라짐\n",
    "# parsing 하는 메서드의 이름이 아름다운soup 인 것입니다.\n",
    "all_news = all_data.find_all('item') # 여기 달라짐\n",
    "all_news_list = []\n",
    "for news in all_news:\n",
    "    title = news.find('title') # 여기 달라짐\n",
    "    link = news.find('link') # 여기 달라짐\n",
    "    all_news_list.append({'title' : title, 'link' : link})\n",
    "pd.DataFrame(all_news_list).to_csv('펭수.csv', encoding='utf-8-sig')\n",
    "'''\n",
    "import pandas as pd\n",
    "import requests\n",
    "import bs4\n",
    "url = 'https://news.google.com/rss/search?q=펭수&hl=ko&gl=KR&ceid=KR%3Ako'\n",
    "response = requests.get(url).text\n",
    "all_data = bs4.BeautifulSoup(response)  # 해석기를 바꿨습니다.\n",
    "# parsing 하는 메서드의 이름이 아름다운soup 인 것입니다.\n",
    "all_news = all_data.find_all('item') # 관심있는 태그만 찾기(중간단계 건너뜀)\n",
    "all_news_list = []\n",
    "for news in all_news:\n",
    "    title = news.find('title'). # 딕셔너리에서 title 키로 찾은 것 처럼 title 태그로 찾음\n",
    "    link = news.find('link') # 딕셔너리에서 link 키로 찾은 것 처럼 link 태그로 찾음\n",
    "    all_news_list.append({'title' : title, 'link' : link})\n",
    "pd.DataFrame(all_news_list).to_csv('펭수.csv', encoding='utf-8-sig')"
   ]
  },
  {
   "cell_type": "code",
   "execution_count": 24,
   "metadata": {},
   "outputs": [],
   "source": [
    "import pandas as pd\n",
    "import requests\n",
    "import bs4\n",
    "url = 'https://news.google.com/rss/search?q=펭수&hl=ko&gl=KR&ceid=KR%3Ako'\n",
    "response = requests.get(url).text\n",
    "all_data = bs4.BeautifulSoup(response)\n",
    "all_news = all_data.find_all('item')\n",
    "all_news_list = []\n",
    "for news in all_news:\n",
    "    title = news.find('title').text # 원하는 정보까지 다 찾았다면\n",
    "    link = news.find('link') # 마지막에 .text 를 붙여서 태그 정보 지우기\n",
    "    all_news_list.append({'title' : title, 'link' : link})\n",
    "pd.DataFrame(all_news_list).to_csv('펭수.csv', encoding='utf-8-sig')"
   ]
  },
  {
   "cell_type": "code",
   "execution_count": 25,
   "metadata": {},
   "outputs": [],
   "source": [
    "import pandas as pd\n",
    "import requests\n",
    "import bs4\n",
    "url = 'https://news.google.com/rss/search?q=펭수&hl=ko&gl=KR&ceid=KR%3Ako'\n",
    "response = requests.get(url).text\n",
    "all_data = bs4.BeautifulSoup(response, 'xml') # 해석기를 갈아끼웠습니다.\n",
    "all_news = all_data.find_all('item')\n",
    "all_news_list = []\n",
    "for news in all_news:\n",
    "    title = news.find('title').text # link 가 제대로 해석이 되지 않았었기 때문에\n",
    "    link = news.find('link').text # BeautifulSoup 해석단계에서 해석기를 직접 정했습니다.\n",
    "    all_news_list.append({'title' : title, 'link' : link})\n",
    "pd.DataFrame(all_news_list).to_csv('펭수.csv', encoding='utf-8-sig')"
   ]
  },
  {
   "cell_type": "markdown",
   "metadata": {},
   "source": [
    "##### 키워드 입력해 뉴스 정보를 가져와 저장하는 news_get 함수를 만들어줍니다."
   ]
  },
  {
   "cell_type": "code",
   "execution_count": 26,
   "metadata": {},
   "outputs": [],
   "source": [
    "import pandas as pd\n",
    "import requests\n",
    "import bs4\n",
    "def news_get(kw):\n",
    "    url = f'https://news.google.com/rss/search?q={kw}&hl=ko&gl=KR&ceid=KR%3Ako'\n",
    "    response = requests.get(url).text\n",
    "    all_data = bs4.BeautifulSoup(response, 'xml') # 해석기를 갈아끼웠습니다.\n",
    "    all_news = all_data.find_all('item')\n",
    "    all_news_list = []\n",
    "    for news in all_news:\n",
    "        title = news.find('title').text # link 가 제대로 해석이 되지 않았었기 때문에\n",
    "        link = news.find('link').text # BeautifulSoup 해석단계에서 해석기를 직접 정했습니다.\n",
    "        all_news_list.append({'title' : title, 'link' : link})\n",
    "    pd.DataFrame(all_news_list).to_csv(f'{kw}.csv', encoding='utf-8-sig')"
   ]
  },
  {
   "cell_type": "code",
   "execution_count": 28,
   "metadata": {},
   "outputs": [],
   "source": [
    "news_get('디스코드')"
   ]
  },
  {
   "cell_type": "markdown",
   "metadata": {},
   "source": [
    "### JSON, XML 마무리"
   ]
  },
  {
   "cell_type": "code",
   "execution_count": 35,
   "metadata": {},
   "outputs": [
    {
     "data": {
      "text/html": [
       "<div>\n",
       "<style scoped>\n",
       "    .dataframe tbody tr th:only-of-type {\n",
       "        vertical-align: middle;\n",
       "    }\n",
       "\n",
       "    .dataframe tbody tr th {\n",
       "        vertical-align: top;\n",
       "    }\n",
       "\n",
       "    .dataframe thead th {\n",
       "        text-align: right;\n",
       "    }\n",
       "</style>\n",
       "<table border=\"1\" class=\"dataframe\">\n",
       "  <thead>\n",
       "    <tr style=\"text-align: right;\">\n",
       "      <th></th>\n",
       "      <th>title</th>\n",
       "      <th>href</th>\n",
       "      <th>ingredients</th>\n",
       "      <th>thumbnail</th>\n",
       "    </tr>\n",
       "  </thead>\n",
       "  <tbody>\n",
       "    <tr>\n",
       "      <th>0</th>\n",
       "      <td>Grilled Pizza with Margherita Pizza Variation</td>\n",
       "      <td>http://www.bigoven.com/140778-Grilled-Pizza-wi...</td>\n",
       "      <td>pizza dough, tomato sauce, pecorino, tomato, b...</td>\n",
       "      <td></td>\n",
       "    </tr>\n",
       "    <tr>\n",
       "      <th>1</th>\n",
       "      <td>Eggplant, Tomato, and Fontina Pizza</td>\n",
       "      <td>http://epicurious.com/recipes/food/views/230755</td>\n",
       "      <td>eggplant, salt, basil, mint, garlic, grape tom...</td>\n",
       "      <td></td>\n",
       "    </tr>\n",
       "    <tr>\n",
       "      <th>2</th>\n",
       "      <td>Cone Pizza Tuna With Herb Recipe</td>\n",
       "      <td>http://www.grouprecipes.com/2463/cone-pizza-tu...</td>\n",
       "      <td>tuna, cream cheese, wine, mint, lemon, parmesa...</td>\n",
       "      <td>http://img.recipepuppy.com/278949.jpg</td>\n",
       "    </tr>\n",
       "    <tr>\n",
       "      <th>3</th>\n",
       "      <td>Armenian Pizza - Lahmajoun</td>\n",
       "      <td>http://www.recipezaar.com/Armenian-Pizza-Lahma...</td>\n",
       "      <td>black pepper, red pepper flakes, tomato, cumin...</td>\n",
       "      <td>http://img.recipepuppy.com/79336.jpg</td>\n",
       "    </tr>\n",
       "    <tr>\n",
       "      <th>4</th>\n",
       "      <td>Artichoke and Feta Cheese Pizza</td>\n",
       "      <td>http://www.recipezaar.com/Artichoke-and-Feta-C...</td>\n",
       "      <td>mint, feta cheese, artichoke, pizza dough, tom...</td>\n",
       "      <td></td>\n",
       "    </tr>\n",
       "    <tr>\n",
       "      <th>5</th>\n",
       "      <td>Layered Pear Pizza with Ricotta, Apricot Prese...</td>\n",
       "      <td>http://www.foodnetwork.com/recipes/robin-mille...</td>\n",
       "      <td>apricot preserves, granola, mint, ricotta cheese</td>\n",
       "      <td></td>\n",
       "    </tr>\n",
       "    <tr>\n",
       "      <th>6</th>\n",
       "      <td>No Sauce Tomato Pizza Topping</td>\n",
       "      <td>http://www.bigoven.com/115815-No-Sauce-Tomato-...</td>\n",
       "      <td>olive oil, plum tomato, feta cheese, mozzarell...</td>\n",
       "      <td></td>\n",
       "    </tr>\n",
       "    <tr>\n",
       "      <th>7</th>\n",
       "      <td>\\nPizza Dips Recipe\\n\\n</td>\n",
       "      <td>http://cookeatshare.com/recipes/pizza-dips-11370</td>\n",
       "      <td>breakfast sausage, flour, parmesan cheese, mar...</td>\n",
       "      <td>http://img.recipepuppy.com/905127.jpg</td>\n",
       "    </tr>\n",
       "    <tr>\n",
       "      <th>8</th>\n",
       "      <td>Strawberry Breakfast Pizza</td>\n",
       "      <td>http://www.cooks.com/rec/view/0,195,158172-241...</td>\n",
       "      <td>mint, orange, biscuits, cream cheese, strawber...</td>\n",
       "      <td></td>\n",
       "    </tr>\n",
       "    <tr>\n",
       "      <th>9</th>\n",
       "      <td>Turkish Pizza</td>\n",
       "      <td>http://find.myrecipes.com/recipes/recipefinder...</td>\n",
       "      <td>pitas, olive oil, paprika, butter, spinach, ko...</td>\n",
       "      <td>http://img.recipepuppy.com/546691.jpg</td>\n",
       "    </tr>\n",
       "  </tbody>\n",
       "</table>\n",
       "</div>"
      ],
      "text/plain": [
       "                                               title  \\\n",
       "0      Grilled Pizza with Margherita Pizza Variation   \n",
       "1                Eggplant, Tomato, and Fontina Pizza   \n",
       "2                   Cone Pizza Tuna With Herb Recipe   \n",
       "3                         Armenian Pizza - Lahmajoun   \n",
       "4                    Artichoke and Feta Cheese Pizza   \n",
       "5  Layered Pear Pizza with Ricotta, Apricot Prese...   \n",
       "6                      No Sauce Tomato Pizza Topping   \n",
       "7                            \\nPizza Dips Recipe\\n\\n   \n",
       "8                         Strawberry Breakfast Pizza   \n",
       "9                                      Turkish Pizza   \n",
       "\n",
       "                                                href  \\\n",
       "0  http://www.bigoven.com/140778-Grilled-Pizza-wi...   \n",
       "1    http://epicurious.com/recipes/food/views/230755   \n",
       "2  http://www.grouprecipes.com/2463/cone-pizza-tu...   \n",
       "3  http://www.recipezaar.com/Armenian-Pizza-Lahma...   \n",
       "4  http://www.recipezaar.com/Artichoke-and-Feta-C...   \n",
       "5  http://www.foodnetwork.com/recipes/robin-mille...   \n",
       "6  http://www.bigoven.com/115815-No-Sauce-Tomato-...   \n",
       "7   http://cookeatshare.com/recipes/pizza-dips-11370   \n",
       "8  http://www.cooks.com/rec/view/0,195,158172-241...   \n",
       "9  http://find.myrecipes.com/recipes/recipefinder...   \n",
       "\n",
       "                                         ingredients  \\\n",
       "0  pizza dough, tomato sauce, pecorino, tomato, b...   \n",
       "1  eggplant, salt, basil, mint, garlic, grape tom...   \n",
       "2  tuna, cream cheese, wine, mint, lemon, parmesa...   \n",
       "3  black pepper, red pepper flakes, tomato, cumin...   \n",
       "4  mint, feta cheese, artichoke, pizza dough, tom...   \n",
       "5   apricot preserves, granola, mint, ricotta cheese   \n",
       "6  olive oil, plum tomato, feta cheese, mozzarell...   \n",
       "7  breakfast sausage, flour, parmesan cheese, mar...   \n",
       "8  mint, orange, biscuits, cream cheese, strawber...   \n",
       "9  pitas, olive oil, paprika, butter, spinach, ko...   \n",
       "\n",
       "                               thumbnail  \n",
       "0                                         \n",
       "1                                         \n",
       "2  http://img.recipepuppy.com/278949.jpg  \n",
       "3   http://img.recipepuppy.com/79336.jpg  \n",
       "4                                         \n",
       "5                                         \n",
       "6                                         \n",
       "7  http://img.recipepuppy.com/905127.jpg  \n",
       "8                                         \n",
       "9  http://img.recipepuppy.com/546691.jpg  "
      ]
     },
     "execution_count": 35,
     "metadata": {},
     "output_type": "execute_result"
    }
   ],
   "source": [
    "# JSON\n",
    "import requests\n",
    "import pandas as pd\n",
    "ing = 'mint'\n",
    "rec = 'pizza'\n",
    "url = f'http://www.recipepuppy.com/api/?i={ing}&q={rec}'\n",
    "all_recipe = requests.get(url).json()['results']\n",
    "pd.DataFrame(all_recipe).to_csv(f'{ing}_{rec}.csv')"
   ]
  },
  {
   "cell_type": "code",
   "execution_count": 38,
   "metadata": {},
   "outputs": [],
   "source": [
    "# JSON\n",
    "import requests\n",
    "import pandas as pd\n",
    "def json_recipe(ing, rec):\n",
    "    url = f'http://www.recipepuppy.com/api/?i={ing}&q={rec}'\n",
    "    all_recipe = requests.get(url).json()['results']\n",
    "    pd.DataFrame(all_recipe).to_csv(f'{ing}_{rec}.csv')\n",
    "json_recipe('tuna', 'pizza')"
   ]
  },
  {
   "cell_type": "code",
   "execution_count": 45,
   "metadata": {},
   "outputs": [],
   "source": [
    "# XML - xmltodict\n",
    "import requests\n",
    "import xmltodict\n",
    "url = 'http://www.recipepuppy.com/api/?i=tuna&q=pizza&format=xml'\n",
    "response = requests.get(url).text\n",
    "all_recipe = xmltodict.parse(response)\n",
    "recipe_list = all_recipe['recipes']['recipe']\n",
    "all_recipe_list = []\n",
    "for recipe in recipe_list:\n",
    "    title = recipe['title']\n",
    "    ingredients = recipe['ingredients']\n",
    "    all_recipe_list.append({'title' : title, 'ing' : ingredients})\n",
    "pd.DataFrame(all_recipe_list).to_csv('tuna_pizza.csv')"
   ]
  },
  {
   "cell_type": "code",
   "execution_count": 46,
   "metadata": {},
   "outputs": [],
   "source": [
    "# XML - beautifulsoup\n",
    "import requests\n",
    "import bs4\n",
    "url = 'http://www.recipepuppy.com/api/?i=tuna&q=pizza&format=xml'\n",
    "response = requests.get(url).text\n",
    "all_recipe = bs4.BeautifulSoup(response, 'xml') # xmltodict 상 parsing과 동일\n",
    "recipe_list = all_recipe.find_all('recipe')\n",
    "all_recipe_list = []\n",
    "for recipe in recipe_list:\n",
    "    title = recipe.find('title').text\n",
    "    ingredients = recipe.find('ingredients').text\n",
    "    all_recipe_list.append({'title' : title, 'ing' : ingredients})\n",
    "pd.DataFrame(all_recipe_list).to_csv('tuna_pizza.csv')"
   ]
  },
  {
   "attachments": {
    "%EC%A0%9C%EB%AA%A9%20%EC%97%86%EC%9D%8C.png": {
     "image/png": "[encoded data removed]"
    }
   },
   "cell_type": "markdown",
   "metadata": {},
   "source": [
    "#### 다음 수업시간에는 HTML 을 다룹니다.\n",
    "* 절차는 거의 동일합니다.\n",
    "![%EC%A0%9C%EB%AA%A9%20%EC%97%86%EC%9D%8C.png](attachment:%EC%A0%9C%EB%AA%A9%20%EC%97%86%EC%9D%8C.png)"
   ]
  },
  {
   "cell_type": "code",
   "execution_count": 47,
   "metadata": {},
   "outputs": [
    {
     "data": {
      "text/plain": [
       "<!DOCTYPE html>\n",
       "<html lang=\"ko\"> <head> <meta charset=\"utf-8\"/> <meta content=\"always\" name=\"referrer\"/> <meta content=\"telephone=no,address=no,email=no\" name=\"format-detection\"/> <meta content=\"width=device-width,initial-scale=1.0,maximum-scale=2.0\" name=\"viewport\"/> <meta content=\"skswnebo : 네이버 통합검색\" property=\"og:title\"/> <meta content=\"https://ssl.pstatic.net/sstatic/search/common/og_v3.png\" property=\"og:image\"/> <meta content=\"'skswnebo'의 네이버 통합검색 결과입니다.\" property=\"og:description\"/> <meta content=\"'skswnebo'의 네이버 통합검색 결과입니다.\" lang=\"ko\" name=\"description\"/> <title>skswnebo : 네이버 통합검색</title> <link href=\"https://ssl.pstatic.net/sstatic/search/favicon/favicon_191118_pc.ico\" rel=\"shortcut icon\"/> <link href=\"https://ssl.pstatic.net/sstatic/search/opensearch-description.https.xml\" rel=\"search\" title=\"Naver\" type=\"application/opensearchdescription+xml\"/><link href=\"https://ssl.pstatic.net/sstatic/search/pc/css/search1_201223.css\" rel=\"stylesheet\" type=\"text/css\"/> <link href=\"https://ssl.pstatic.net/sstatic/search/pc/css/search2_201223.css\" rel=\"stylesheet\" type=\"text/css\"/> <link href=\"https://ssl.pstatic.net/sstatic/search/pc/css/sp_autocomplete_201112.css\" rel=\"stylesheet\" type=\"text/css\"/><script type=\"text/javascript\"> if (!String.prototype.trim) { String.prototype.trim = function () { return this.replace(/^[\\s\\uFEFF\\xA0]+|[\\s\\uFEFF\\xA0]+$/g, ''); }; } if (!Array.prototype.indexOf) { Array.prototype.indexOf = function(searchElement, fromIndex) { var k; if (this == null) { throw new TypeError('\"this\" is null or not defined'); } var o = Object(this); var len = o.length >>> 0; if (len === 0) { return -1; } var n = fromIndex | 0; if (n >= len) { return -1; } k = Math.max(n >= 0 ? n : len - Math.abs(n), 0); while (k < len) { if (k in o && o[k] === searchElement) { return k; } k++; } return -1; }; } if (!Array.prototype.filter) { Array.prototype.filter = function(func, thisArg) { 'use strict'; if (!((typeof func === 'Function' || typeof func === 'function') && this)) throw new TypeError(); var len = this.length >>> 0, res = new Array(len), t = this, c = 0, i = -1; var kValue; if (thisArg === undefined) { while (++i !== len) { if (i in this) { kValue = t[i]; if (func(t[i], i, t)) { res[c++] = kValue; } } } } else { while (++i !== len) { if (i in this) { kValue = t[i]; if (func.call(thisArg, t[i], i, t)) { res[c++] = kValue; } } } } res.length = c; return res; }; } if (typeof(encodeURIComponent) != \"function\") { encodeURIComponent = function (s) { function toHex (n) { var hexchars = \"0123456789ABCDEF\" ; return \"%%\" + hexchars.charAt(n>>4) + hexchars.charAt(n&0xF) ; } var es = \"\" ; for (var i = 0; i < s.length;) { var c = s.charCodeAt(i++) ; if ((c&0xF800) == 0xD800) { var sc = s.charCodeAt(i++) ; c = ((c-0xD800)<<10) + (sc-0xDC00) + 0x10000 ; } if (!(c&~0x7F)) { if ((c>=65&&c<=90) || (c>=97&&c<=122) || (c>=48&&c<=57) || (c>=45&&c<=46) || c==95 || c==33 || c==126 || (c>=39&&c<=42)) es += String.fromCharCode(c) ; else es += toHex(c) ; } else if (!(c&~0x7FF)) es += toHex(0xC0+(c>>6)) + toHex(c&0x3F) ; else if (!(c&~0xFFFF)) es += toHex(0xE0+(c>>12)) + toHex(0x80+(c>>6&0x3F)) + toHex(0x80+(c&0x3F)) ; else es += toHex(0xF0+(c>>18)) + toHex(0x80+(c>>12&0x3F)) + toHex(0x80+(c>>6&0x3F)) + toHex(0x80+(c&0x3F)) ; } return es ; } } naver = window.naver || {}; naver.search = naver.search || {}; var g_D = 0 ; naver.search.error = (function () { var errorList = Array() ; return { add : function (s) { errorList.push(s) ; }, clear : function () { delete errorList ; }, get : function (s) { return errorList ; }, getString : function (d) { if (typeof d === 'undefined') d = '|' ; return errorList.join(d) ; } } })(); naver.search.cookie = (function () { return { set : function (key, value, expire, domain) { var cookie = key + \"=\" + escape(value); if (typeof expire !== 'undefined') { if (expire instanceof Date) { cookie = cookie + \"; expires=\" + expire.toUTCString(); } else { var exdate = new Date((new Date()).getTime() + expire*1000); cookie = cookie + \"; expires=\" + exdate.toUTCString(); } } cookie = cookie + \"; path=/\"; if (domain != null) { cookie = cookie + \"; domain=\" + domain; } document.cookie = cookie; }, get : function (key) { var cookie_list = document.cookie.split(/\\s*;\\s*/); for (var i = 0; i < cookie_list.length; i++) { var tmp_list = cookie_list[i].split(\"=\"); var c_key = tmp_list[0].trim(); var c_value = tmp_list[1]; if (key == c_key) { return unescape(c_value); } } return null; } } })(); naver.search.https = window.location.protocol == \"https:\"; naver.search.meta_referrer = 0; var _nx_js_load = (function () { var scrs = {} ; return function (script, callback) { scrs[script] = {} ; scrs[script].domscript = document.createElement('script'); scrs[script].domscript.src = script ; if (callback) scrs[script].callback = (callback instanceof Array) ? callback : [callback]; scrs[script].domscript.onloadDone = false; scrs[script].domscript.onload = function() { scrs[script].domscript.onloadDone = true; if (scrs[script].callback) { for (var i = 0; i < scrs[script].callback.length; i++) { scrs[script].callback[i]() ; } } scrs[script].domscript.onload = scrs[script].domscript.onreadystatechange = null; } ; scrs[script].domscript.onreadystatechange = function() { if ( (\"loaded\" === scrs[script].domscript.readyState || \"complete\" === scrs[script].domscript.readyState) && !scrs[script].domscript.onloadDone ) { scrs[script].domscript.onload(); } } ; document.getElementsByTagName('head')[0].appendChild(scrs[script].domscript); }; })() ; var nx_js_defer_load = (function() { var info = {} ; return function(scrname, callback, t) { var nx_load_once = (function() { return function(scrname) { if (info[scrname].t > 0) setTimeout(function() { _nx_js_load(scrname, info[scrname].callback) ; }, t) ; else _nx_js_load(scrname, info[scrname].callback) ; } ; })(); if (t < 0) t = 0 ; if (info[scrname]) { n = info[scrname].length; for (var i = 0; i < n; i++) { if (info[scrname][i] == callback) return ; } if (t < info[scrname].t) info[scrname].t = t ; } else { info[scrname] = {} ; info[scrname].callback = [] ; info[scrname].t = t ; jindo.$Fn(function() { nx_load_once(scrname) ; }).attach(window, \"load\") ; } info[scrname].callback.push(callback) ; }; })(); function nx_js_lazyload(scripts, onload, is_serial) { if (!(scripts instanceof Array)) { scripts = [scripts]; } if (is_serial) { function load_next() { if (scripts.length == 0) { onload(); return; } _nx_js_load( scripts.shift(), load_next ) ; } load_next(); } else { var load_check = function() { var num_js = scripts.length; return function() { num_js--; if (num_js <= 0) { onload(); } } }(); for (var i = 0; i < scripts.length; i++) { _nx_js_load( scripts[i], load_check ) ; } } } function nx_defer_eval (id) { var codeElement = document.getElementById(id), code = codeElement.innerHTML; eval(code.replace(/\\/\\*/, '').replace(/\\*\\//, '')); } </script><script> try { document.execCommand('BackgroundImageCache', false, true); } catch(e) {} if (top.frames.length!=0 || window!=top) window.open(location, \"_top\") ; naver = window.naver || {}; naver.search = naver.search || {}; naver.search.ext = naver.search.ext || {}; naver.search.map_api = { v2 : \"https://ssl.pstatic.net/sstatic.map/openapi/openapi_v23.js\", v3 : \"https://ssl.pstatic.net/sstatic.map/openapi/maps3.js\" } ; var nx_au_cookie_domain = \"search.naver.com\" ; var nx_mobile_agent = 0 ; var headerfooter_query = \"skswnebo\" ; var headerfooter_query_encoded = \"skswnebo\" ; var headerfooter_time_year = 2020 ; var headerfooter_time_month = 12 ; var headerfooter_time_day = 23 ; var headerfooter_time_hour = 21 ; var headerfooter_time_minute = 55 ; var headerfooter_time_second = 52 ; var headerfooter_time_wday = 3 ; var headerfooter_time_year_s = \"2020\" ; var headerfooter_time_month_s = \"12\" ; var headerfooter_time_day_s = \"23\" ; var headerfooter_time_hour_s = \"21\" ; var headerfooter_time_minute_s = \"55\" ; var headerfooter_time_second_s = \"52\" ; var headerfooter_time_wday_s = \"3\" ; var g_ssc = \"tab.nx.all\" ; var g_query = \"skswnebo\" ; var g_puid = \"U+K+Tsp0JXVssOIg66CssssssCw-364209\" ; var g_suid = \"1KoDRtlQZy5/av9TH4HSsg==\" ; var g_tab = \"nexearch\" ; var g_stab = \"nexearch\" ; var g_crt = \"\" ; var g_m_str = \"\" ; var g_tablet_device = 0 ; var g_nx_splugin ; document.domain = \"naver.com\" ; document.documentElement.setAttribute('data-useragent', window.navigator.userAgent.toLowerCase()) ; document.documentElement.setAttribute('data-platform', window.navigator.platform.toLowerCase()) ; var g_er_image, g_er_count = 0 ; function g_er (msg) { if (g_er_count++ > 0) return ; g_er_image = new Image() ; g_er_image.src = \"http://er.search.naver.com/er?f=\"+g_tab+\"&w=\"+g_stab+\"&q=skswnebo&u=\"+encodeURIComponent(document.location)+\"&m=\"+encodeURIComponent(msg) ; } function trim_space (q) { var head_re = /^ */; var tail_re = / *$/; q = q.replace(head_re, \"\"); q = q.replace(tail_re, \"\"); return q; } function trim_crlf (q) { var crlf = /[\\r|\\n]/ ; q = q.replace(crlf, \"\") ; return q ; } function include_script (type, defer, src, charset) { var script = document.createElement(\"script\") ; script.type = type, script.defer = defer ; script.src = src ; if (charset) script.charset = charset ; else script.charset = 'utf-8' ; document.getElementsByTagName('head')[0].appendChild(script) ; return script ; } function include_style (src, charset) { var h = document.getElementsByTagName(\"head\")[0] ; var l = document.createElement('link') ; l.type = 'text/css' ; l.rel = 'stylesheet' ; if (charset) l.charset = charset ; else l.charset = 'utf-8' ; l.media = 'screen' ; l.href = src ; h.appendChild(l) ; } function bt (id, after) { document.getElementById(id).src = after ; } function urlencode (q) { return encodeURIComponent(q).replace(/%20/g, \"+\").replace(/[!~'()]/g, function(c) { return '%' + c.charCodeAt(0).toString(16).toUpperCase() ; }); } function urlexpand (url) { var href = document.location.href ; if (url == \"\") return href ; if (url.match(/^[-.A-Za-z]+:/)) return url ; if (url.charAt(0) == '#') return href.split(\"#\")[0] + url ; if (url.charAt(0) == '?') return href.split(\"?\")[0] + url ; if (url.charAt(0) == '/') return href.replace(/([^:\\/])\\/.*$/, \"$1\") + url ; return href.substring(0, href.lastIndexOf(\"/\")+1) + url ; } function tt_sub_disable (o) { if (typeof(o.tt_sub) == \"undefined\") return false ; if ((typeof(o.tt_sub) == \"object\") && (o.tt_sub.length)) { var i ; for (var i=0; i<o.tt_sub.length; i++) o.tt_sub[i].disabled = true ; } else o.tt_sub.disabled = true ; return true ; } function cpip () { var evt, sx = sy = px = py = -1 ; try { evt = window.event ; } catch (e) {} try { sx=evt.clientX-document.body.clientLeft, sy=evt.clientY-document.body.clientTop ; } catch (e) {} try { px=document.body.scrollLeft+(sx<0?0:sx), py=document.documentElement.scrollTop+(sy<0?0:sy) ; } catch (e) {} try { if (evt.pageX) px=evt.pageX ; if (evt.pageY) py=evt.pageY ; } catch (e) {} return \"px=\"+px+\"&py=\"+py+\"&sx=\"+sx+\"&sy=\"+sy ; } function nxGetCommonCRParam () { return \"p=\"+urlencode(g_puid)+\"&q=\"+urlencode(g_query)+\"&ie=utf8&rev=1&ssc=\"+urlencode(g_ssc)+\"&f=\"+urlencode(g_tab)+\"&w=\"+urlencode(g_stab)+\"&s=\"+urlencode(g_suid)+\"&time=\"+urlencode((new Date()).getTime())+g_crt ; } function getCRRankingByParam (p, info) { if (typeof info == 'undefined' || info == null) return 0 ; var cr = 0 ; try { var y, z ; var y = p.split('&') ; for (var i = 0; i < y.length; i++) { if (z = y[i].split('=')) { if (z[0] == 'a') { for (var j = 0; j < info.length; j++) { if (z[1].substr(0, info[j].n.length) == info[j].n) { cr = info[j].r ; break ; } } break ; } } } } catch (e) { } return cr ; } function getCRRanking (p) { var cr = 0 ; if (typeof nx_cr_area_info != 'undefined') cr = getCRRankingByParam(p, nx_cr_area_info) ; if (cr) return cr ; if (typeof nx_cr_right_area_info != 'undefined') cr = getCRRankingByParam(p, nx_cr_right_area_info) ; return cr ; } function isOutlink (u) { if (!u || u.indexOf(\"://\") < 0) return false; var b = (u.search(/^\\w*:\\/\\/([^:/?]*\\.|)*(?!(ad)?cr\\.)[^.:/?]+\\.+naver\\.com(:\\d*)?(\\/|$)/) < 0);  return b; } function nxGetCRURL (m, a, b, c, d, e) { var p = \"\" ; var u ; if (c==undefined && d==undefined && e==undefined) { p = (a==undefined?\"\":\"&\"+a) + (b==undefined || a.indexOf(\"u=\")==0 || a.indexOf(\"&u=\") > 0 ?\"\":\"&u=\"+urlencode(b)) ; u = b ; } else { p = (a==undefined ? \"\" : \"&a=\"+urlencode(a)) + (b==undefined ? \"\" : \"&r=\"+urlencode(b)) + (c==undefined ? \"\" : \"&i=\"+urlencode(c)) + (d==undefined ? \"\" : \"&u=\"+urlencode(d)) + (e==undefined ? \"\" : \"&\"+e) ; u = d ; } if (! p) return null ; var url ; if (naver.search.https) { url = (naver.search.meta_referrer ? \"/p/crd\" : \"/p/cr\") + \"/rd\"; if (m != 0) m = 1; } else { out = isOutlink(u); url = \"http://cr.naver.com\" + (g_D && out ? \"/nr\" : \"/rd\"); if (m != 0) m = g_D && out ? 2 : 1; } url += \"?m=\" + m + \"&\" + cpip() + \"&\" + nxGetCommonCRParam() + p; return url; } function tCR (a, b, c, d, e) { var l = nxGetCRURL(0, a, b, c, d, e) ; var cr = getCRRanking(l) ; if (cr > 0) l = l + \"&cr=\" + cr ; if (document.images) (new Image()).src = l ; else document.location = l ; return false ; } function gCR (u, a, r, i, e, t) { if (u) u = urlexpand(u) ; var l = nxGetCRURL(1, a, r, i, u, e) ; var o = document.createElement(\"a\") ; var cr = getCRRanking(l) ; if (cr > 0) l = l + \"&cr=\" + cr ; if (o.click) { o.href = l ; o.style.display = \"none\" ; document.body.appendChild(o) ; o.click() ; } else document.location = l ; } function goCR (o, p, t) { var u = o.href ; tt_sub_disable(o) ; if (p.indexOf(\"u=javascript\") >= 0) t = true ; var n = (o.ownerDocument==document && o.target && o.target!=\"_self\" && o.target!=\"_parent\" && o.target!=\"_top\") && !(window.location.protocol&&window.location.protocol.indexOf(\"https:\")==0) ; var cr = getCRRanking(p) ; if (cr > 0) p = p + \"&cr=\" + cr ;  if (!(u && u.indexOf(\"http://cr.naver.com/\")==0) && !(o.getAttribute !== undefined && o.getAttribute(\"crurl\"))) { if (0 && u && u.indexOf(\"/search.naver?\") >= 0) { var str = \"\" ;   p = p.replace(/(((?:^|&)u=).*%2Fsearch.naver%3F[^&]*)/, '$1' + str) ; } u = nxGetCRURL(t?0:(n?-1:1), p, u) ; } if (u && !u.match(/m=0&/)) { var a = o.innerHTML ; if (g_D && naver.search.https && naver.search.meta_referrer && o.href && isOutlink(o.href)) o.setAttribute(\"rel\", \"noreferrer\"); o.href = u ; if (o.getAttribute !== undefined) o.setAttribute(\"crurl\", \"1\"); if (o.innerHTML != a) o.innerHTML = a ; } else if (document.images) (new Image()).src = u ; return true ; } function goOtherCR (o, p) { return goCR(o, p, false) ; } function goOtherTCR (o, p) { return goCR(o, p, true) ; } function get_form_url (o) { var url = o.getAttribute(\"action\") ; if (url == null) url = \"\" ; var e, n = 0 ; for (var i=0; i<o.elements.length; i++) { e = o.elements[i] ; if (e.disabled || !e.name) continue ; url += (n++>0?\"&\":url.indexOf(\"?\")<0?\"?\":url.indexOf(\"?\")<url.length-1?\"&\":\"\") + encodeURIComponent(e.name) + \"=\" + encodeURIComponent(e.value) ; } return url ; } function formCR (o, area, rank, id) { if (typeof o == 'string') o = document.getElementById(o) ; var target = o.getAttribute(\"target\") ; if (target && target!=\"_self\" && target!=\"_parent\" && target!=\"_top\" || /^post$/i.test(o.getAttribute(\"method\"))) { tCR(area, rank, id) ; o.submit() ; return false ; } var url = get_form_url(o) ; var a = document.createElement(\"a\") ; a.href = url ; var p = area != undefined ? \"a=\" + area : \"\" ; if (rank != undefined) p += (p?\"&\":\"\") + \"r=\" + encodeURIComponent(rank) ; if (id != undefined) p += (p?\"&\":\"\") + \"i=\" + encodeURIComponent(id) ; if (url != undefined) p += (p?\"&\":\"\") + \"u=\" + encodeURIComponent(urlexpand(url)) ; goCR(a, p) ; if (navigator.userAgent.indexOf('MSIE') > 0) { a.style.display = 'none' ; o.appendChild(a) ; a.click() ; } else document.location = a.href ; return false ; } function goHist (o, a, e) { return true ; } function rank_val (rank, name, sign, number, ad_onair) { this.rank = rank ; this.name = name ; this.sign = sign ; this.number = number ; this.ad_onair = ad_onair ; } function rr_hotquery_val (titleImg, totalLink, ad_onair) { this.titleImg = titleImg ; this.totalLink = totalLink ; this.ad_onair = ad_onair ; } function rr_append () { for (var i=0; i<rr_list.length; i++) if (rr_list[i].qname==hotqry_Name && rr_list[i].dir==hotqry_Dir) return 0 ; var o = { order:hotqry_Order, contid:hotqry_ContID, qname:hotqry_Name, dir:hotqry_Dir, toprank:hotqry_TopRank, rankdown:hotqry_RankDown, clicklog:hotqry_ClickLog, toprank_idx:toprank_idx, lowrank_idx:lowrank_idx, topranklist:toprank, lowranklist:lowrank_idx>=0?lowrank:null } ; rr_list = rr_list.concat(o) ; return 1 ; } var msg_hidden_idle=null; function msg (id) { if(msg_hidden_idle) clearInterval(msg_hidden_idle); if(id) { var mid=document.getElementById(id); mid.style.display=''; mid.style.visibility='visible'; } } function msg_hidden (id, f) { if(f) hidden(id); else msg_hidden_idle=setInterval(\"hidden('\"+id+\"')\",100); } function hidden (id) { var mid=document.getElementById(id); mid.style.display='none'; mid.style.visibility='hidden'; } function nx_check_basic () { return ; } function nx_set_cookie (name, value, expire, domain) { var cookie = name + \"=\" + escape(value); if (expire != null) { if (expire instanceof Date) { cookie = cookie + \"; expires=\" + expire.toUTCString(); } else { var exdate = new Date((new Date()).getTime() + expire*1000); cookie = cookie + \"; expires=\" + exdate.toUTCString(); } } cookie = cookie + \"; path=/\"; if (domain != null) { cookie = cookie + \"; domain=\" + domain; } document.cookie = cookie; } function nx_get_cookie (name) { var cookie_list = document.cookie.split(/\\s*;\\s*/); for (var i = 0; i < cookie_list.length; i++) { var tmp_list = cookie_list[i].split(\"=\"); var c_name = trim_space(tmp_list[0]); var c_value = tmp_list[1]; if (name == c_name) { return unescape(c_value); } } return null; } var nx_default_charset = document.charset ; function nx_form_emul_charset (form) { if (/msie/i.test(navigator.userAgent) && !/opera/i.test(navigator.userAgent)) { document.charset = form.acceptCharset ; window.onbeforeunload = function () { document.charset = nx_default_charset ; } ; } return true; } (function() { function ignore(e) { var tagName = e.target.tagName.toUpperCase(); var ignoreTargets = [\"INPUT\", \"SELECT\", \"TEXTAREA\", \"EMBED\", \"OBJECT\"]; var isKeyV = e.key.toLowerCase() === \"v\"; if (ignoreTargets.indexOf(tagName) !== -1) return true; else if (e.altKey) return true; else if (e.ctrlKey && !isKeyV) return true; else if (e.metaKey && !isKeyV) return true; else if (isSpaceKey(e)) return true; return false; } function stop(e) { e.preventDefault(); e.stopPropagation(); } function focus(reset) { var query = document.getElementById(\"nx_query\"); scrollTo(0, 0); if(reset) query.value = \"\"; query.focus(); query.select(); } function isSpaceKey(e) { return e.code === \"Space\" || e.key === \"Spacebar\" || e.key === \" \"; } function isShiftKeyAndSpaceKey(e) { return e.shiftKey && isSpaceKey(e); } function isF2Key(e) { return e.key === \"F2\"; } function isInsertKey(e) { return e.key === \"Insert\" || e.code === \"Insert\"; } function isSingleCharKey(e) { return e.key.length === 1; } document.addEventListener(\"keydown\", function onKeydown(e) { try { if (ignore(e)) return; if (isShiftKeyAndSpaceKey(e) || isF2Key(e) || isInsertKey(e)) { stop(e); focus(); } else if (isSingleCharKey(e)) { focus(true); } } catch (err) {} }, true); })(); (function(exportTarget) { var lcs_options = { nnb: true }; var lcs_version = \"v0.8.3\"; var lcs_add = {}; var lcs_bc = {}; var lcs_perf = {}; var lcs_do_count = 0; var lcs_do_retry_count = 0; var lcs_waiting_pageshow = false; function lcs_do(optional_etc) { var etc = optional_etc || {}; if (lcs_waiting_pageshow) { return; } var retry = function(__etc) { return function() { window.setTimeout(function() { lcs_waiting_pageshow = false; lcs_do(__etc); }, 10); } }(etc); if (document.readyState !== \"complete\") { var eventName = \"onpageshow\" in window ? \"pageshow\" : \"load\"; if (document.addEventListener) { window.addEventListener(eventName, retry, false); } else { window.attachEvent(\"on\"+ eventName, retry); } lcs_do_retry_count++; lcs_waiting_pageshow = true; return; } if (!window.lcs_SerName) { window.lcs_SerName = \"lcs.naver.com\"; } var rs = \"\"; var index; var itarVal; var doc = document; var wlt = window.location; var lcsServerAddr; try { lcsServerAddr = \"https://\" + window.lcs_SerName + \"/m?\"; } catch (e) { return; } try { rs = lcsServerAddr + \"u=\" + encodeURIComponent(wlt.href) + \"&e=\" + (doc.referrer ? encodeURIComponent(doc.referrer) : \"\"); } catch (e) {} try { if (typeof lcs_add.i == \"undefined\") lcs_add.i = \"\"; if (lcs_do_count < 1) { lcs_setBrowserCapa(); if (lcs_options.nnb) { lcs_setNNB(); } lcs_setConnectionType(); lcs_setNavigationTiming(); var loadEventStart = lcs_perf[\"loadEventStart\"] || 0; var loadEventEnd = lcs_perf[\"loadEventEnd\"] || 0; if (loadEventEnd < loadEventStart && lcs_do_retry_count < 3) { lcs_do_retry_count++; lcs_waiting_pageshow = true; retry(); return; } lcs_setPaintTiming(); lcs_setNavigationType(); } for (index in lcs_bc) { if (typeof lcs_bc[index] !== \"function\") rs += \"&\" + index + \"=\" + encodeURIComponent(lcs_bc[index]); } for (index in lcs_add) { itarVal = lcs_add[index]; if (itarVal !== undefined && typeof itarVal !== \"function\") { rs += \"&\" + index + \"=\" + encodeURIComponent(itarVal); } } if (lcs_do_count < 1) { for (index in lcs_perf) { itarVal = lcs_perf[index]; if (itarVal) { rs += \"&\" + index + \"=\" + encodeURIComponent(itarVal); } } } var dni = !!etc.dni ? etc.dni : getCookie(\"NAPP_DI\"); if (!!dni) { etc.dni = dni; } else { delete etc.dni; } for (index in etc) { if ( (index.length >= 3 && typeof etc[index] !== \"function\") || index === \"qy\" ) { rs += \"&\" + index + \"=\" + encodeURIComponent(etc[index]); } } if (!!etc === false || !!etc.pid === false) { var pidFallback; if (window.g_pid) { pidFallback = g_pid; } else { pidFallback = lcs_get_lpid(); } rs += \"&pid=\" + encodeURIComponent(pidFallback); } var timeStr = new Date().getTime(); rs += \"&ts=\" + timeStr; rs += \"&EOU\"; var obj = document.createElement(\"img\"); obj.src = rs; obj.onload = function() { obj.onload = null; return; }; lcs_do_count++; } catch (e) { return; } } function getCookie(name) { var value = document.cookie.match('(^|;) ?' + name + '=([^;]*)(;|$)'); return value? value[2] : \"\"; } function lcs_do_gdid(gdid, etc) { try { if (gdid) { lcs_add[\"i\"] = gdid; if (etc) { lcs_do(etc); } else { lcs_do(); } } } catch (e) {} } function getLocalStorage() { var localStorage = null; try { localStorage = window.localStorage; } catch (e) {} try { if (!localStorage) localStorage = window.sessionStorage; } catch (e) {} return localStorage || null; } function lcs_setNNB() { try { var lsg = getLocalStorage(); if (lsg) { if (lsg.ls) { var lc = lsg.ls; if (lc.length == 13) { lcs_add[\"ls\"] = lc; return; } } var nnb = lcs_getNNBfromCookie(); if (nnb != null && nnb != \"\") { lsg.ls = nnb; lcs_add[\"ls\"] = nnb; } } } catch (e) {} } function lcs_setBrowserCapa() { lcs_bc[\"os\"] = lcs_getOS(); lcs_bc[\"ln\"] = lcs_getlanguage(); lcs_bc[\"sr\"] = lcs_getScreen(); lcs_bc[\"pr\"] = window.devicePixelRatio || 1; var windowSize = lcs_getWindowSize(); lcs_bc[\"bw\"] = windowSize[\"bw\"]; lcs_bc[\"bh\"] = windowSize[\"bh\"]; lcs_bc[\"c\"] = lcs_getColorDepth(); lcs_bc[\"j\"] = lcs_getJavaEnabled(); lcs_bc[\"k\"] = lcs_getCookieEnabled(); } function lcs_getOS() { var lcs_os = \"\"; try { navigator.platform ? (lcs_os = navigator.platform) : \"\"; } catch (e) {} return lcs_os; } function lcs_getlanguage() { var lcs_ln = \"\"; try { navigator.userLanguage ? (lcs_ln = navigator.userLanguage) : navigator.language ? (lcs_ln = navigator.language) : \"\"; } catch (e) {} return lcs_ln; } function lcs_getScreen() { var lcs_sr = \"\"; try { if (window.screen && screen.width && screen.height) { lcs_sr = screen.width + \"x\" + screen.height; } else if (window.java || self.java) { var sr = java.awt.Toolkit.getDefaultToolkit().getScreenSize(); lcs_sr = sr.width + \"x\" + sr.height; } } catch (e) { lcs_sr = \"\"; } return lcs_sr; } function lcs_getWindowSize() { var doc = document; var size = { bw: \"\", bh: \"\" }; try { size[\"bw\"] = doc.documentElement.clientWidth ? doc.documentElement.clientWidth : doc.body.clientWidth; size[\"bh\"] = doc.documentElement.clientHeight ? doc.documentElement.clientHeight : doc.body.clientHeight; } catch (e) {} return size; } function lcs_getColorDepth() { var colorDepth = \"\"; try { if (window.screen) { colorDepth = screen.colorDepth ? screen.colorDepth : screen.pixelDepth; } else if (window.java || self.java) { var c = java.awt.Toolkit.getDefaultToolkit() .getColorModel() .getPixelSize(); colorDepth = c; } } catch (e) { colorDepth = \"\"; } return colorDepth; } function lcs_getJavaEnabled() { var jsEnable = \"\"; try { jsEnable = navigator.javaEnabled() ? \"Y\" : \"N\"; } catch (e) {} return jsEnable; } function lcs_getCookieEnabled() { var cookieEnable = \"\"; try { cookieEnable = navigator.cookieEnabled ? \"Y\" : \"N\"; } catch (e) {} return cookieEnable; } function lcs_getNNBfromCookie() { try { var ck = document.cookie; var k, v, i, ArrCookies = ck.split(\";\"); for (i = 0; i < ArrCookies.length; i++) { k = ArrCookies[i].substr(0, ArrCookies[i].indexOf(\"=\")); v = ArrCookies[i].substr(ArrCookies[i].indexOf(\"=\") + 1); k = k.replace(/^\\s+|\\s+$/g, \"\"); if (k == \"NNB\") { return unescape(v); } } } catch (e) {} } function lcs_setConnectionType() { var connection = navigator.connection; if (connection) { if (connection.type && connection.type.length > 1) { lcs_add[\"ct\"] = connection.type; } if (connection.effectiveType) { lcs_add[\"ect\"] = connection.effectiveType; } } } function lcs_setNavigationTiming() { var performance = window.performance || {}; if (performance.timing) { var pt = performance.timing; for (var key in pt) { var value = pt[key]; if (typeof value === \"number\") { lcs_perf[key] = value; } } } } function lcs_setPaintTiming() { var performance = window.performance || {}; try { if (performance.getEntriesByType) { var performanceEntries = performance.getEntriesByType(\"paint\"); performanceEntries.forEach(function(performanceEntry, i, entries) { var name = performanceEntry.name; switch (name) { case \"first-paint\": case \"first-contentful-paint\": lcs_perf[name] = performanceEntry.startTime; break; default: break; } }); } else { } } catch (e) { console.warn(e); } } function lcs_setNavigationType() { var ngt = getNavigationType(); if (ngt !== undefined) { lcs_perf[\"ngt\"] = ngt; } } function getNavigationType() { var performance = window.performance || {}; if (performance.navigation) { return performance.navigation.type; } return; } var lpid = null; function lcs_create_lpid() { var uaID; var lsg = getLocalStorage(); var nnb = lsg ? lsg.ls : null; if (nnb) { uaID = nnb; } else { var nnbFallback; nnbFallback = navigator.userAgent + Math.random(); uaID = nnbFallback; } var performance = window.performance || {}; var pageURL = location.href; var currentTime; if (performance.now) { currentTime = performance.now(); } else { currentTime = new Date().getTime(); } lpid = hashFunction.md5(uaID + pageURL + currentTime); return lpid; } function lcs_get_lpid() { if (lpid === null) { lpid = lcs_create_lpid(); } return lpid; } function lcs_update_lpid() { lpid = lcs_create_lpid(); return lpid; } var hashFunction = {}; (function(exportTarget) { function safeAdd(x, y) { var lsw = (x & 0xffff) + (y & 0xffff); var msw = (x >> 16) + (y >> 16) + (lsw >> 16); return (msw << 16) | (lsw & 0xffff); } function bitRotateLeft(num, cnt) { return (num << cnt) | (num >>> (32 - cnt)); } function md5cmn(q, a, b, x, s, t) { return safeAdd( bitRotateLeft(safeAdd(safeAdd(a, q), safeAdd(x, t)), s), b ); } function md5ff(a, b, c, d, x, s, t) { return md5cmn((b & c) | (~b & d), a, b, x, s, t); } function md5gg(a, b, c, d, x, s, t) { return md5cmn((b & d) | (c & ~d), a, b, x, s, t); } function md5hh(a, b, c, d, x, s, t) { return md5cmn(b ^ c ^ d, a, b, x, s, t); } function md5ii(a, b, c, d, x, s, t) { return md5cmn(c ^ (b | ~d), a, b, x, s, t); } function binlMD5(x, len) { x[len >> 5] |= 0x80 << len % 32; x[(((len + 64) >>> 9) << 4) + 14] = len; var i; var olda; var oldb; var oldc; var oldd; var a = 1732584193; var b = -271733879; var c = -1732584194; var d = 271733878; for (i = 0; i < x.length; i += 16) { olda = a; oldb = b; oldc = c; oldd = d; a = md5ff(a, b, c, d, x[i], 7, -680876936); d = md5ff(d, a, b, c, x[i + 1], 12, -389564586); c = md5ff(c, d, a, b, x[i + 2], 17, 606105819); b = md5ff(b, c, d, a, x[i + 3], 22, -1044525330); a = md5ff(a, b, c, d, x[i + 4], 7, -176418897); d = md5ff(d, a, b, c, x[i + 5], 12, 1200080426); c = md5ff(c, d, a, b, x[i + 6], 17, -1473231341); b = md5ff(b, c, d, a, x[i + 7], 22, -45705983); a = md5ff(a, b, c, d, x[i + 8], 7, 1770035416); d = md5ff(d, a, b, c, x[i + 9], 12, -1958414417); c = md5ff(c, d, a, b, x[i + 10], 17, -42063); b = md5ff(b, c, d, a, x[i + 11], 22, -1990404162); a = md5ff(a, b, c, d, x[i + 12], 7, 1804603682); d = md5ff(d, a, b, c, x[i + 13], 12, -40341101); c = md5ff(c, d, a, b, x[i + 14], 17, -1502002290); b = md5ff(b, c, d, a, x[i + 15], 22, 1236535329); a = md5gg(a, b, c, d, x[i + 1], 5, -165796510); d = md5gg(d, a, b, c, x[i + 6], 9, -1069501632); c = md5gg(c, d, a, b, x[i + 11], 14, 643717713); b = md5gg(b, c, d, a, x[i], 20, -373897302); a = md5gg(a, b, c, d, x[i + 5], 5, -701558691); d = md5gg(d, a, b, c, x[i + 10], 9, 38016083); c = md5gg(c, d, a, b, x[i + 15], 14, -660478335); b = md5gg(b, c, d, a, x[i + 4], 20, -405537848); a = md5gg(a, b, c, d, x[i + 9], 5, 568446438); d = md5gg(d, a, b, c, x[i + 14], 9, -1019803690); c = md5gg(c, d, a, b, x[i + 3], 14, -187363961); b = md5gg(b, c, d, a, x[i + 8], 20, 1163531501); a = md5gg(a, b, c, d, x[i + 13], 5, -1444681467); d = md5gg(d, a, b, c, x[i + 2], 9, -51403784); c = md5gg(c, d, a, b, x[i + 7], 14, 1735328473); b = md5gg(b, c, d, a, x[i + 12], 20, -1926607734); a = md5hh(a, b, c, d, x[i + 5], 4, -378558); d = md5hh(d, a, b, c, x[i + 8], 11, -2022574463); c = md5hh(c, d, a, b, x[i + 11], 16, 1839030562); b = md5hh(b, c, d, a, x[i + 14], 23, -35309556); a = md5hh(a, b, c, d, x[i + 1], 4, -1530992060); d = md5hh(d, a, b, c, x[i + 4], 11, 1272893353); c = md5hh(c, d, a, b, x[i + 7], 16, -155497632); b = md5hh(b, c, d, a, x[i + 10], 23, -1094730640); a = md5hh(a, b, c, d, x[i + 13], 4, 681279174); d = md5hh(d, a, b, c, x[i], 11, -358537222); c = md5hh(c, d, a, b, x[i + 3], 16, -722521979); b = md5hh(b, c, d, a, x[i + 6], 23, 76029189); a = md5hh(a, b, c, d, x[i + 9], 4, -640364487); d = md5hh(d, a, b, c, x[i + 12], 11, -421815835); c = md5hh(c, d, a, b, x[i + 15], 16, 530742520); b = md5hh(b, c, d, a, x[i + 2], 23, -995338651); a = md5ii(a, b, c, d, x[i], 6, -198630844); d = md5ii(d, a, b, c, x[i + 7], 10, 1126891415); c = md5ii(c, d, a, b, x[i + 14], 15, -1416354905); b = md5ii(b, c, d, a, x[i + 5], 21, -57434055); a = md5ii(a, b, c, d, x[i + 12], 6, 1700485571); d = md5ii(d, a, b, c, x[i + 3], 10, -1894986606); c = md5ii(c, d, a, b, x[i + 10], 15, -1051523); b = md5ii(b, c, d, a, x[i + 1], 21, -2054922799); a = md5ii(a, b, c, d, x[i + 8], 6, 1873313359); d = md5ii(d, a, b, c, x[i + 15], 10, -30611744); c = md5ii(c, d, a, b, x[i + 6], 15, -1560198380); b = md5ii(b, c, d, a, x[i + 13], 21, 1309151649); a = md5ii(a, b, c, d, x[i + 4], 6, -145523070); d = md5ii(d, a, b, c, x[i + 11], 10, -1120210379); c = md5ii(c, d, a, b, x[i + 2], 15, 718787259); b = md5ii(b, c, d, a, x[i + 9], 21, -343485551); a = safeAdd(a, olda); b = safeAdd(b, oldb); c = safeAdd(c, oldc); d = safeAdd(d, oldd); } return [a, b, c, d]; } function binl2rstr(input) { var i; var output = \"\"; var length32 = input.length * 32; for (i = 0; i < length32; i += 8) { output += String.fromCharCode((input[i >> 5] >>> i % 32) & 0xff); } return output; } function rstr2binl(input) { var i; var output = []; output[(input.length >> 2) - 1] = undefined; for (i = 0; i < output.length; i += 1) { output[i] = 0; } var length8 = input.length * 8; for (i = 0; i < length8; i += 8) { output[i >> 5] |= (input.charCodeAt(i / 8) & 0xff) << i % 32; } return output; } function rstrMD5(s) { return binl2rstr(binlMD5(rstr2binl(s), s.length * 8)); } function rstrHMACMD5(key, data) { var i; var bkey = rstr2binl(key); var ipad = []; var opad = []; var hash; ipad[15] = opad[15] = undefined; if (bkey.length > 16) { bkey = binlMD5(bkey, key.length * 8); } for (i = 0; i < 16; i += 1) { ipad[i] = bkey[i] ^ 0x36363636; opad[i] = bkey[i] ^ 0x5c5c5c5c; } hash = binlMD5(ipad.concat(rstr2binl(data)), 512 + data.length * 8); return binl2rstr(binlMD5(opad.concat(hash), 512 + 128)); } function rstr2hex(input) { var hexTab = \"0123456789abcdef\"; var output = \"\"; var x; var i; for (i = 0; i < input.length; i += 1) { x = input.charCodeAt(i); output += hexTab.charAt((x >>> 4) & 0x0f) + hexTab.charAt(x & 0x0f); } return output; } function str2rstrUTF8(input) { return unescape(encodeURIComponent(input)); } function rawMD5(s) { return rstrMD5(str2rstrUTF8(s)); } function hexMD5(s) { return rstr2hex(rawMD5(s)); } function rawHMACMD5(k, d) { return rstrHMACMD5(str2rstrUTF8(k), str2rstrUTF8(d)); } function hexHMACMD5(k, d) { return rstr2hex(rawHMACMD5(k, d)); } function md5(string, key, raw) { if (!key) { if (!raw) { return hexMD5(string); } return rawMD5(string); } if (!raw) { return hexHMACMD5(key, string); } return rawHMACMD5(key, string); } exportTarget.md5 = md5; })(hashFunction); exportTarget.lcs_do = lcs_do; exportTarget.lcs_do_gdid = lcs_do_gdid; exportTarget.lcs_get_lpid = lcs_get_lpid; exportTarget.lcs_update_lpid = lcs_update_lpid; exportTarget.lcs_version = lcs_version; })(window); if (window.addEventListener) window.addEventListener(\"load\", function() { lcs_do({\"pid\": \"U+K+Tsp0JXVssOIg66CssssssCw-364209\"}) }, false) ; else lcs_do({\"pid\": \"U+K+Tsp0JXVssOIg66CssssssCw-364209\"}) ; </script> <script crossorigin=\"anonymous\" src=\"https://ssl.pstatic.net/sstatic/sdyn.js?f=/au/pc/_nx/jindo_1.5.3_171116.js+/search/js/nhn.Component.js+/search/js/jindo.Component.1.1.0.js+/search/js/jindo.component.library_120927.js+/search/js/flashObject_121025.js+/au/s/pc/_common/jindo/jindo.Rolling_140526.js+/au/pc/_common/nhn.common_201216.js+/au/pc/_nx/2017/nx_jquery_0622b.js+/au/pc/_nx/2020/nhn.common.ScriptErrorLogger.sauPc_201014.js+/au/pc/naver_autocomplete/naver.common.atcmp.naver_web_201105.js&amp;o=search\" type=\"text/javascript\"></script> <script> if (0 && nhn.common.ScriptErrorLogger) { nhn.common.ScriptErrorLogger.sauPcStart(); } function nx_add_event_handler (event, func) { $Fn(func).attach(document, event) ; } </script> <script type=\"text/javascript\"> function nx_form_submit (f) { if (g_D || 0) f.action = \"\" ; if (typeof naver.search.option !== 'undefined' && naver.search.option.mson) naver.search.option.append_params(f) ; return true ; } </script><script type=\"text/javascript\"> var g_site = \"\" ; function document_write (s) { document.write(s) ; } nhn.jsLazyLoad = { include: function(a, b, c) { nx_js_lazyload(a, b, 0) ; } } ; nx_js_defer_load(\"https://ssl.pstatic.net/sstatic/au/s/pc/_others/nxtt/search_om.js\", function() {NXTT.div=document.getElementById(\"nxtt_div\");}, 50); </script></head> <body class=\"wrap-new api_animation\"> <div id=\"nxtt_div\" style=\"display:none;position:absolute;border-width:0;z-index:11000\"></div> <div id=\"u_skip\"> <a href=\"#lnb\"><span>메뉴 영역으로 바로가기</span></a> <a href=\"#content\"><span>본문 영역으로 바로가기</span></a> </div> <div id=\"wrap\"> <div id=\"header_wrap\" role=\"heading\"> <div class=\"api_floating_header\"> <div class=\"gnb_wrap\"> <div class=\"header_group\"> <div class=\"search_area\"> <h1 class=\"logo\"><a class=\"link\" href=\"https://www.naver.com\" onclick=\"return goOtherCR(this, 'a=sta.naver&amp;r=&amp;i=&amp;u='+urlencode(this.href));\"><i class=\"spnew ico_logo\">NAVER</i></a></h1> <form action=\"?\" id=\"nx_search_form\" method=\"get\" name=\"search\" onsubmit=\"return nx_form_submit(this)\" role=\"search\"> <fieldset class=\"greenwindow\"> <legend>검색</legend> <input name=\"sm\" type=\"hidden\" value=\"tab_hty.top\"/> <input name=\"where\" type=\"hidden\" value=\"nexearch\"/> <div class=\"greenbox\"> <input accesskey=\"s\" autocomplete=\"off\" class=\"box_window\" data-atcmp-element=\"\" id=\"nx_query\" maxlength=\"255\" name=\"query\" placeholder=\"검색어를 입력해 주세요.\" type=\"text\" value=\"skswnebo\"/> </div> <input name=\"oquery\" type=\"hidden\" value=\"skswnebo\"/> <input name=\"tqi\" type=\"hidden\" value=\"U+K+Tsp0JXVssOIg66CssssssCw-364209\"/> <input disabled=\"\" name=\"acq\" type=\"hidden\" value=\"\"/> <input disabled=\"\" name=\"acr\" type=\"hidden\" value=\"\"/> <input disabled=\"\" name=\"qdt\" type=\"hidden\" value=\"\"/> <input disabled=\"\" name=\"acir\" type=\"hidden\" value=\"\"/> <input disabled=\"\" name=\"os\" type=\"hidden\" value=\"\"/> <input disabled=\"\" name=\"bid\" type=\"hidden\" value=\"\"/> <input disabled=\"\" name=\"pkid\" type=\"hidden\" value=\"\"/> <input disabled=\"\" name=\"eid\" type=\"hidden\" value=\"\"/> <input disabled=\"\" name=\"mra\" type=\"hidden\" value=\"\"/> <div class=\"setkr_area\"> <a aria-pressed=\"false\" class=\"bt_setkr\" href=\"#\" id=\"ke_kbd_btn\" onclick=\"return tCR('a=sch.ime');\" role=\"button\"><i class=\"spnew ico_keyboard\">한글 입력기</i></a> <div id=\"_nx_kbd\" style=\"display:none;\"></div> </div> <script> (function() { var startApplication = function() { var jsUrl = \"https://ssl.pstatic.net/sstatic/au/pc/ime/ime_201105.js\"; var ime; jQuery(\"#ke_kbd_btn\").on(\"click\", function(){ require([jsUrl], function(IMEKeyboard) { if (ime) { ime.toggle(); return; } ime = new IMEKeyboard({selector: { TOGGLE_BTN: \"#ke_kbd_btn\", CONTENTS_AREA: \"#_nx_kbd\", INPUT: \"#nx_query\" }}).toggle(); }, function () { alert(\"네트워크 상태가 안 좋아 한영입력기를 불러오지 못했습니다.\\n잠시 후 다시 시도해 주세요.\"); }); }); }; naver.common.load_js(window.require ? null : naver.common.gv.REQUIRE_JS, startApplication, true, 150); })(); </script> <div class=\"autocomplete\"> <a aria-pressed=\"false\" class=\"bt_atcp _btn_arw\" data-atcmp-element=\"\" href=\"#\" id=\"nautocomplete\" role=\"button\"><i class=\"spnew ico_arrow\">자동완성 레이어</i></a> <div class=\"ly_atcmp\" data-atcmp-element=\"\" id=\"nx_autoframe_top\" style=\"display:none\"> <div class=\"api_atcmp_wrap\"> <div class=\"atcmp_fixer _recent_layer\" style=\"display:none;\"> <div class=\"atcmp_header _recent_header\"> <strong class=\"tit\">최근검색어</strong> <div class=\"option\"> <a aria-pressed=\"false\" class=\"item _delAll\" href=\"#\" role=\"button\">전체삭제</a> </div> </div> <div class=\"atcmp_container\"> <ul class=\"kwd_lst _recent\"> <li class=\"item _item\" data-keyword=\"@in_txt@\" data-rank=\"@rank@\" data-template-type=\"history\"> <a class=\"kwd\" href=\"#\"> <span class=\"fix\"><span class=\"common_ico_kwd\"><i class=\"imsc ico_search\"></i></span><span>@txt@</span></span> </a> <span class=\"etc\"> <em class=\"date\">@date@.</em> <a aria-pressed=\"false\" class=\"bt_item _del\" href=\"#\" role=\"button\"><i class=\"imsc ico_del\">삭제</i></a> </span> </li> </ul> <div class=\"kwd_info kwd_off _offMsg\" style=\"display: none;\">검색어 저장 기능이 꺼져 있습니다.<br/><span class=\"kwd_dsc\">설정이 초기화 된다면 <a class=\"kwd_help\" href=\"https://help.naver.com/support/alias/search/word/word_29.naver\" onclick=\"return goOtherCR(this,'a=sly.help&amp;r=&amp;i=&amp;u='+urlencode(this.href));\" target=\"_blank\">도움말</a>을 확인해주세요.</span></div> <div class=\"kwd_info kwd_none _recentNone\" style=\"display: none;\">최근 검색어 내역이 없습니다.<br/><span class=\"kwd_dsc\">설정이 초기화 된다면 <a class=\"kwd_help\" href=\"https://help.naver.com/support/alias/search/word/word_29.naver\" onclick=\"return goOtherCR(this,'a=sly.help&amp;r=&amp;i=&amp;u='+urlencode(this.href));\" target=\"_blank\">도움말</a>을 확인해주세요.</span></div> </div> <div class=\"atcmp_footer\"> <span class=\"side_opt_area\"> <span class=\"opt_item\"><a href=\"https://help.naver.com/support/alias/search/word/word_29.naver\" onclick=\"return goOtherCR(this,'a=sly.help&amp;r=&amp;i=&amp;u='+urlencode(this.href));\" target=\"_blank\">도움말</a></span> </span> <span class=\"rside_opt_area\"> <span class=\"opt_item\"> <a class=\"close _keywordOnOff\" href=\"#\">자동저장 끄기</a> </span> </span> </div> </div> <div class=\"atcmp_fixer _atcmp_layer\" style=\"display:none;\"> <div class=\"atcmp_container _words\"> <div class=\"atcmp_correct type_lotto _answer\" data-code=\"@code@\" data-keyword=\"@1@\" data-template-type=\"answer_3\"> <a class=\"link_item\" href=\"#\"> <span class=\"common_ico_kwd\"><i class=\"imsc ico_search\"></i></span> <div class=\"dsc_area\"> <span class=\"tit\">@5@회차 당첨번호</span> <span class=\"dsc\"> <span class=\"item\">추첨 @13@.</span><span class=\"item\">지급기한 1년</span> </span> </div> <span class=\"etc_area\"> <span class=\"etc lotto\"> <em class=\"n@6@\">@6@</em><em class=\"n@7@\">@7@</em><em class=\"n@8@\">@8@</em><em class=\"n@9@\">@9@</em><em class=\"n@10@\">@10@</em><em class=\"n@11@\">@11@</em><em class=\"imsc_bf bonus n@12@\">@12@</em> </span> </span> </a> </div> <div class=\"atcmp_correct type_exchange _answer\" data-code=\"@code@\" data-keyword=\"@1@\" data-template-type=\"answer_9\"> <a class=\"link_item @11@\" href=\"#\"> <span class=\"common_ico_kwd\"><i class=\"imsc ico @12@\">@14@</i></span> <div class=\"dsc_area\"> <span class=\"tit\">@txt@<span class=\"sub\">@currency@</span></span> <span class=\"dsc\"> <span class=\"item\"><i class=\"imsc ico_arr\"></i>@8@(@9@%)</span> </span> </div> <span class=\"etc_area\"> <span class=\"etc\"><em class=\"num\">@6@</em>원</span> </span> </a> </div> <div class=\"atcmp_correct type_weather _answer\" data-code=\"@code@\" data-keyword=\"@1@\" data-template-type=\"answer_11\"> <a class=\"link_item @12@\" href=\"#\"> <span class=\"common_ico_kwd\"><i class=\"imsc ico_search\"></i></span> <div class=\"dsc_area\"> <span class=\"tit\">@txt@</span> <span class=\"dsc\"> <span class=\"item\">@7@, @message@</span> </span> </div> <span class=\"etc_area\"> <span class=\"etc\"> <span class=\"ico_weather\"><i class=\"imsc ico ico@iconNo@\">@7@</i></span> <em class=\"degree\">@8@<sup class=\"celsius\">°</sup></em> </span> </span> </a> </div> <div class=\"atcmp_correct type_site _answer\" data-code=\"@code@\" data-keyword=\"@1@\" data-template-type=\"answer_17\"> <a class=\"link_item\" href=\"@5@\" target=\"_blank\"> <span class=\"common_ico_kwd\"><i class=\"imsc ico_url\"></i></span> <div class=\"dsc_area\"> <span class=\"tit\">@txt@</span> <span class=\"dsc\"> <span class=\"item\">@5@</span> </span> </div> <span class=\"etc_area\"> <span class=\"etc\">바로가기</span> </span> </a> </div> <ul class=\"kwd_lst _kwd_list\"> <li class=\"item _item\" data-keyword=\"@in_txt@\" data-rank=\"@rank@\" data-template-type=\"suggestion\"> <a class=\"kwd\" href=\"#\"> <span class=\"fix\"><span class=\"common_ico_kwd\"><i class=\"imsc ico_search\"></i></span>@txt@</span> </a> <span class=\"etc\"> <a aria-pressed=\"false\" class=\"bt_item _add\" href=\"#\" role=\"button\"><i class=\"imsc ico_insert\">추가</i></a> </span> </li> <li class=\"item has_correct _item\" data-keyword=\"@in_txt@\" data-rank=\"@rank@\" data-template-type=\"history\"> <a class=\"kwd\" href=\"#\"> <span class=\"fix\"><span class=\"common_ico_kwd\"><i class=\"imsc ico_search\"></i></span>@txt@</span> </a> <span class=\"etc\"> <em class=\"date\">@date@.</em> <a aria-pressed=\"false\" class=\"bt_item _add\" href=\"#\" role=\"button\"><i class=\"imsc ico_insert\">추가</i></a> </span> </li> </ul> <li class=\"item has_correct _item\" data-intend-rank=\"@intendRank@\" data-keyword=\"@transQuery@\" data-rank=\"@rank@\" data-template-type=\"intend\"> <a class=\"kwd\" href=\"#\"> <span class=\"fix\"><span class=\"common_ico_kwd\"><i class=\"imsc ico_search\"></i></span>@query@ <span class=\"context\">@intend@</span></span> </a> <span class=\"etc\"> <a aria-pressed=\"false\" class=\"bt_item _add\" href=\"#\" role=\"button\"><i class=\"imsc ico_insert\">추가</i></a> </span> </li> <div class=\"atcmp_alert\"> <div class=\"dsc_election\"> <i class=\"imsc ico_election\"></i> <p class=\"dsc\">선거 후보자에 대해 자동완성을 제공하지 않습니다. <span class=\"dsc_inner\">기간 : 4월 2일 0시 ~ 4월 15일 18시까지</span> <a class=\"link\" href=\"#\">자세히보기</a> </p> </div> </div> <div class=\"atcmp_plus _plus\"> <div class=\"dsc_plus\"> <a class=\"link_dsc\" href=\"https://help.naver.com/support/alias/search/word/word_16.naver\" onclick=\"return goOtherCR(this,'a=sug.cxhelp&amp;r=&amp;i=&amp;u='+urlencode(this.href));\" target=\"_blank\">관심사를 반영한 컨텍스트 자동완성<i class=\"imsc ico_help\">도움말</i></a> </div> <div class=\"switch\"> <a aria-pressed=\"false\" class=\"bt_switch active _plus_btn\" href=\"#\" role=\"button\"><i class=\"imsc ico_option\">컨텍스트 자동완성</i></a> </div> <div class=\"layer_plus _plus_layer\"> <strong class=\"tit\">컨텍스트 자동완성</strong> <div class=\"_plus_layer_isloggedin\" style=\"display:none\"> <p class=\"dsc\">ON/OFF 설정은<br/>해당기기(브라우저)에 저장됩니다.</p> <div class=\"btn_area\"> <a class=\"btn btn_view\" href=\"https://help.naver.com/support/alias/search/word/word_16.naver\" onclick=\"return goOtherCR(this,'a=sug.cxhelp&amp;r=&amp;i=&amp;u='+urlencode(this.href));\" target=\"_blank\">자세히</a> </div> </div> <div class=\"_plus_layer_isnotloggedin\" style=\"display:none\"> <p class=\"dsc\"><em class=\"txt\">동일한 시간대/연령/남녀별</em> 사용자 그룹의<br/>관심사에 맞춰 자동완성을 제공합니다.</p> <div class=\"btn_area\"> <a class=\"btn btn_login\" href=\"https://nid.naver.com/nidlogin.login?url=https%3A%2F%2Fsearch.naver.com%2Fsearch.naver%3Fsm%3Dtab_hty.top%26where%3Dnexearch%26query%3Dskswnebo%26oquery%3D%25E3%2585%2593%25EC%2596%25B4%25EC%2595%2584%25EB%2582%2598%25EB%2584%2588%25EC%259C%25A4%25E3%2585%2581%253B%25EB%2582%2598%26tqi%3DU%252BK%252BadprvxsssjM4cn0ssssstW8-303422\" onclick=\"return goOtherCR(this,'a=sug.cxlogin&amp;r=&amp;i=&amp;u='+urlencode(this.href));\">로그인</a> <a class=\"btn btn_view\" href=\"https://help.naver.com/support/alias/search/word/word_16.naver\" onclick=\"return goOtherCR(this,'a=sug.cxhelp&amp;r=&amp;i=&amp;u='+urlencode(this.href));\" target=\"_blank\">자세히</a> </div> </div> <a class=\"btn_close _plus_layer_close\" href=\"#\" onclick=\"return tCR('a=sug.cxhide');\" role=\"button\"><i class=\"imsc ico_close\">컨텍스트 자동완성 레이어 닫기</i></a> </div> </div> </div> <div class=\"atcmp_footer\"> <span class=\"side_opt_area\"> <span class=\"opt_item\"><a href=\"https://help.naver.com/support/alias/search/word/word_17.naver\" onclick=\"return goOtherCR(this,'a=sug.help&amp;r=&amp;i=&amp;u='+urlencode(this.href));\" target=\"_blank\">도움말</a></span> <span class=\"opt_item\"><a class=\"report\" href=\"https://help.naver.com/support/alias/search/word/word_18.naver\" onclick=\"return goOtherCR(this,'a=sug.report&amp;r=&amp;i=&amp;u='+urlencode(this.href));\" target=\"_blank\">신고</a></span> </span> <span class=\"rside_opt_area\"> <span class=\"opt_item\"> <a class=\"close _suggestOnOff\" href=\"#\">자동완성 끄기</a> </span> </span> </div> </div> <div class=\"api_atcmp_wrap _alert\" style=\"display:none;\"> <div class=\"api_atcmp_alert\"> <p class=\"dsc_txt\"> <span class=\"ico_alert spat\"></span><span class=\"_passage\"></span> <span class=\"term\"><span class=\"_term\"></span><a class=\"link _link\" href=\"#\" nocr=\"\" onclick=\"return goOtherCR(this,'a=sug.vote&amp;r=&amp;i=&amp;u='+urlencode(this.href));\" target=\"_blank\">자세히보기</a></span> </p> </div> </div> </div> </div> </div> <button class=\"bt_search\" type=\"submit\"><i class=\"spnew ico_search\">검색</i></button> </fieldset> </form> </div></div> <div id=\"gnb\"> <script type=\"text/javascript\"> var gnb_option = { gnb_service : \"search\", gnb_template : \"gnb_utf8\", gnb_logout : encodeURIComponent(location.href), gnb_login : encodeURIComponent(location.href), gnb_brightness : 1 , gnb_item_hide_option : 0 } ; var gnb_url = \"https://ssl.pstatic.net/static.gn/templates/gnb_utf8.nhn\" ; nx_js_defer_load(gnb_url + \"?\" + headerfooter_time_year_s + headerfooter_time_month_s + headerfooter_time_day_s + headerfooter_time_hour_s, function() { getGNB() ; $Fn(function(we) { if (typeof gnbAllLayerClose == \"function\") { var bShowLayer = gnbUserLayer.show || gnbNaverMeLayer.show || gnbMoreLayer.show; var bClickGNBArea = $Element($$.getSingle(\"ul.gnb_lst\")).isEqual(we.element) || $Element($$.getSingle(\"ul.gnb_lst\")).isParentOf(we.element); if (bShowLayer && !bClickGNBArea) { gnbAllLayerClose(); } } }, this).attach(document, \"click\"); }, 0) ; </script> </div> </div><script> var nx_usain_beacon = function() { var sent = 0; var tags = []; (function addUagentInfo() { var nav = jindo.$Agent().navigator(); if (nav.version) { var version = \"\"; var vers = (nav.version + \"\").split('.'); version = vers[0]; if (version > 0) { tags.push('ua.' + nav.getName() + '.' + version); } } })(); var usain_obj = { send: function() { if (sent > 0) { return; } sent = 1; setTimeout(function() { var perf = \"\" ; perf = (function () { function _(t) { return (t?(t-window.performance.timing.navigationStart):0); } ; if (typeof(window.performance) == \"undefined\"){ return \"\"} if (typeof(window.performance.timing) == \"undefined\"){ return \"\"} if (typeof(window.performance.navigation) == \"undefined\"){ return \"\"} var t = window.performance.timing ; var n = window.performance.navigation ; return \"navt=\" + [_(t.navigationStart), _(t.unloadEventStart), _(t.unloadEventEnd), _(t.redirectStart), _(t.redirectEnd), _(t.fetchStart), _(t.domainLookupStart), _(t.domainLookupEnd), _(t.connectStart), _(t.connectEnd), _(t.requestStart), _(t.responseStart), _(t.responseEnd), _(t.domLoading), _(t.domInteractive), _(t.domContentLoadedEventStart), _(t.domContentLoadedEventEnd), _(t.domComplete), _(t.loadEventStart), _(t.loadEventEnd), n.type, n.redirectCount].join(\":\") ; }) () ; if (document.location.protocol === 'https:') { tags.push('_ssl'); } else { tags.push('_nossl'); } var queries = []; if (perf) { queries.push(perf); } queries.push(\"tags=\" + tags.join(\":\") ); var u = new Image() ; u.src = \"https://er.search.naver.com/er?v=2&\" + queries.join(\"&\"); u.onload = function() { u.onload = null ; } }, 250); }, add_tag: function(tag) { tags.push(tag); } }; return usain_obj; }(); </script> <div id=\"lnb\" tabindex=\"0\"><div class=\"lnb_group\"> <div class=\"lnb_menu\"> <ul class=\"base\" role=\"tablist\"> <li class=\"menu\" role=\"presentation\"><a aria-selected=\"true\" class=\"tab\" href=\"?where=nexearch&amp;sm=tab_jum&amp;query=skswnebo\" onclick=\"return goOtherCR(this,'a=tab*N.now&amp;r=1&amp;i=&amp;u='+urlencode(this.href));\" role=\"tab\">통합</a></li><li class=\"menu\" role=\"presentation\"><a aria-selected=\"false\" class=\"tab\" href=\"?where=view&amp;sm=tab_jum&amp;query=skswnebo\" onclick=\"return goOtherCR(this,'a=tab*e.jmp&amp;r=2&amp;i=&amp;u='+urlencode(this.href))\" role=\"tab\">VIEW</a></li><li class=\"menu\" role=\"presentation\"><a aria-selected=\"false\" class=\"tab\" href=\"?where=image&amp;sm=tab_jum&amp;query=skswnebo\" onclick=\"return goOtherCR(this,'a=tab*i.jmp&amp;r=3&amp;i=&amp;u='+urlencode(this.href));\" role=\"tab\">이미지</a></li><li class=\"menu\" role=\"presentation\"><a aria-selected=\"false\" class=\"tab\" href=\"?where=kin&amp;sm=tab_jum&amp;query=skswnebo\" onclick=\"return goOtherCR(this,'a=tab*k.jmp&amp;r=4&amp;i=&amp;u='+urlencode(this.href));\" role=\"tab\">지식iN</a></li><li class=\"menu\" role=\"presentation\"><a aria-selected=\"false\" class=\"tab\" href=\"?where=video&amp;sm=tab_jum&amp;query=skswnebo\" onclick=\"return goOtherCR(this,'a=tab*v.jmp&amp;r=5&amp;i=&amp;u='+urlencode(this.href));\" role=\"tab\">동영상</a></li><li class=\"menu\" role=\"presentation\"><a aria-selected=\"false\" class=\"tab\" href=\"https://search.shopping.naver.com/search/all.nhn?where=all&amp;frm=NVSCTAB&amp;query=skswnebo\" onclick=\"return goOtherCR(this,'a=tab*S.jmp&amp;r=6&amp;i=&amp;u='+urlencode(this.href));\" role=\"tab\" target=\"_blank\">쇼핑</a></li><li class=\"menu\" role=\"presentation\"><a aria-selected=\"false\" class=\"tab\" href=\"?where=news&amp;sm=tab_jum&amp;query=skswnebo\" onclick=\"return goOtherCR(this,'a=tab*n.jmp&amp;r=7&amp;i=&amp;u='+urlencode(this.href));\" role=\"tab\">뉴스</a></li><li class=\"menu\" role=\"presentation\"><a aria-selected=\"false\" class=\"tab\" href=\"?where=realtime&amp;sm=tab_jum&amp;query=skswnebo\" onclick=\"return goOtherCR(this,'a=tab*r.jmp&amp;r=8&amp;i=&amp;u='+urlencode(this.href));\" role=\"tab\">실시간검색</a></li><li class=\"menu\" role=\"presentation\"><a aria-selected=\"false\" class=\"tab\" href=\"https://dict.naver.com/search.nhn?dicQuery=skswnebo&amp;query=skswnebo&amp;target=dic&amp;query_utf=&amp;isOnlyViewEE=\" onclick=\"return goOtherCR(this,'a=tab*L.jmp&amp;r=9&amp;i=&amp;u='+urlencode(this.href));\" role=\"tab\" target=\"_blank\">어학사전</a></li> </ul> <div class=\"group_more\"> <div class=\"more_area\" id=\"_nx_lnb_more\"> <a aria-pressed=\"false\" class=\"lnb_more _more_btn\" href=\"#\" onclick=\"tCR(jQuery(this).attr('aria-pressed') === 'false' ? 'a=tab.more' : 'a=tmr.less');\" role=\"button\"><i class=\"spnew ico_lnb_more\">더보기</i></a> <div class=\"addon\"> <ul> <li class=\"menu\" role=\"presentation\"><a aria-selected=\"false\" class=\"tab\" href=\"https://map.naver.com/v5/search/skswnebo\" onclick=\"return goOtherCR(this,'a=tmr*M.jmp&amp;r=1&amp;i=&amp;u='+urlencode(this.href));\" role=\"tab\" target=\"_blank\">지도</a></li><li class=\"menu\" role=\"presentation\"><a aria-selected=\"false\" class=\"tab\" href=\"https://book.naver.com/search/search.nhn?query=skswnebo\" onclick=\"return goOtherCR(this,'a=tmr*B.jmp&amp;r=2&amp;i=&amp;u='+urlencode(this.href));\" role=\"tab\" target=\"_blank\">책</a></li><li class=\"menu\" role=\"presentation\"><a aria-selected=\"false\" class=\"tab\" href=\"https://vibe.naver.com/search?query=skswnebo\" onclick=\"return goOtherCR(this,'a=tmr*m.jmp&amp;r=3&amp;i=&amp;u='+urlencode(this.href));\" role=\"tab\" target=\"_blank\">뮤직</a></li><li class=\"menu\" role=\"presentation\"><a aria-selected=\"false\" class=\"tab\" href=\"?where=kdic&amp;sm=tab_jum&amp;query=skswnebo\" onclick=\"return goOtherCR(this,'a=tmr*K.jmp&amp;r=4&amp;i=&amp;u='+urlencode(this.href));\" role=\"tab\">지식백과</a></li><li class=\"menu\" role=\"presentation\"><a aria-selected=\"false\" class=\"tab\" href=\"https://audioclip.naver.com/search/all?keyword=skswnebo\" onclick=\"return goOtherCR(this,'a=tmr*A.jmp&amp;r=5&amp;i=&amp;u='+urlencode(this.href));\" role=\"tab\" target=\"_blank\">오디오클립</a></li><li class=\"menu\" role=\"presentation\"><a aria-selected=\"false\" class=\"tab\" href=\"https://academic.naver.com/search.naver?field=0&amp;query=skswnebo\" onclick=\"return goOtherCR(this,'a=tmr*a.jmp&amp;r=6&amp;i=&amp;u='+urlencode(this.href));\" role=\"tab\" target=\"_blank\">학술정보</a></li> </ul> </div> </div> <a aria-pressed=\"false\" class=\"bt_option\" href=\"#\" id=\"search_option_button\" onclick=\"return tCR('a=fno.option');\" role=\"button\" title=\"검색옵션 열기\">검색옵션<span class=\"spnew ico_arrow\"></span></a> </div> </div> </div><div class=\"lnb_util\"> <ul class=\"list_util\"> <li> <a class=\"spnew_bf bt_share naver-splugin\" data-band-url=\"https://search.naver.com/search.naver?oquery=%E3%85%93%EC%96%B4%EC%95%84%EB%82%98%EB%84%88%EC%9C%A4%E3%85%81%3B%EB%82%98&amp;query=skswnebo&amp;sm=bdp_pin&amp;tqi=U%2BK%2BadprvxsssjM4cn0ssssstW8-303422&amp;where=nexearch\" data-blog-url=\"https://search.naver.com/search.naver?oquery=%E3%85%93%EC%96%B4%EC%95%84%EB%82%98%EB%84%88%EC%9C%A4%E3%85%81%3B%EB%82%98&amp;query=skswnebo&amp;sm=svc_pin.blog&amp;tqi=U%2BK%2BadprvxsssjM4cn0ssssstW8-303422&amp;where=nexearch\" data-cafe-source-form=\"2\" data-cafe-url=\"https://search.naver.com/search.naver?oquery=%E3%85%93%EC%96%B4%EC%95%84%EB%82%98%EB%84%88%EC%9C%A4%E3%85%81%3B%EB%82%98&amp;query=skswnebo&amp;sm=svc_pin.cafe&amp;tqi=U%2BK%2BadprvxsssjM4cn0ssssstW8-303422&amp;where=nexearch\" data-calendar-url=\"https://search.naver.com/search.naver?oquery=%E3%85%93%EC%96%B4%EC%95%84%EB%82%98%EB%84%88%EC%9C%A4%E3%85%81%3B%EB%82%98&amp;query=skswnebo&amp;sm=svc_pin.cal&amp;tqi=U%2BK%2BadprvxsssjM4cn0ssssstW8-303422&amp;where=nexearch\" data-evkey=\"search\" data-facebook-url=\"https://search.naver.com/search.naver?oquery=%E3%85%93%EC%96%B4%EC%95%84%EB%82%98%EB%84%88%EC%9C%A4%E3%85%81%3B%EB%82%98&amp;query=skswnebo&amp;sm=fbp_pin&amp;tqi=U%2BK%2BadprvxsssjM4cn0ssssstW8-303422&amp;where=nexearch\" data-mail-display=\"off\" data-me-display=\"off\" data-memo-url=\"https://search.naver.com/search.naver?oquery=%E3%85%93%EC%96%B4%EC%95%84%EB%82%98%EB%84%88%EC%9C%A4%E3%85%81%3B%EB%82%98&amp;query=skswnebo&amp;sm=svc_pin.memo&amp;tqi=U%2BK%2BadprvxsssjM4cn0ssssstW8-303422&amp;where=nexearch\" data-option=\"{baseElement:'spiButton2', layerPosition:'outside-bottom', align:'right', top:4, left:0, marginLeft:8, marginTop:10}\" data-service-name=\"통합검색\" data-style=\"unity-v2\" data-twitter-url=\"https://search.naver.com/search.naver?oquery=%E3%85%93%EC%96%B4%EC%95%84%EB%82%98%EB%84%88%EC%9C%A4%E3%85%81%3B%EB%82%98&amp;query=skswnebo&amp;sm=twp_pin&amp;tqi=U%2BK%2BadprvxsssjM4cn0ssssstW8-303422&amp;where=nexearch\" data-use-short-url=\"on\" href=\"#\" id=\"spiButton2\" onclick=\"return tCR('a=fno.pplugin');\" role=\"button\">공유</a> </li> </ul> </div><script type=\"text/javascript\"> nx_js_defer_load(\"https://ssl.pstatic.net/spi/js/release/ko_KR/splugin.js?\" + headerfooter_time_year_s + headerfooter_time_month_s + headerfooter_time_day_s, function() { g_nx_splugin = SocialPlugIn_Core({ \"evKey\" : \"search\", \"serviceName\" : \"통합검색\" }) ; }, 150) ; function splugin_oninitialize(sTargetId) { var elTarget = document.getElementById(sTargetId) ; var sUrl = $$.getSingle('a._sp_each_url', elTarget ).href ; var sTitle = $Element($$.getSingle('._sp_each_title', elTarget)).text() ; var sSource = $Element($$.getSingle('._sp_each_source', elTarget)) ; if (sSource) sSource = sSource.text() ; return { \"url\" : sUrl, \"title\" : sTitle, \"option\" : {baseElement:sTargetId + '_base', layerPosition:'outside-bottom', align:'right', top:18, left:-28, marginLeft:8, marginTop:10}, \"me\" : { display : \"off\" }, \"mail\" : { display : \"off\" }, \"sourceName\" : sSource } ; } </script><script> nx_js_defer_load(\"//search.like.naver.com/static/js/likeIt.list.js?\" + headerfooter_time_year_s + headerfooter_time_month_s + headerfooter_time_day_s, function() { nhn.LikeIt.list.util.init({ sId : \"SEARCH\", sDomain : \"//search.like.naver.com\", bMobile : false }) ; }, 150) ; </script></div></div><script type=\"text/javascript\"> naver.search.option = {} ; naver.search.option.mson = 0 ; naver.search.option.params = {} ; naver.search.option.append_params = (function () { return function (f) { for (var k in naver.search.option.params) { var v = naver.search.option.params[k] ; var input = document.createElement(\"input\"); input.type = \"hidden\"; input.name = k ; input.value = v ; f.appendChild(input); } return true ; } ; })() ; naver.search.option.get_params = (function () { return function () { var option_params = \"\" ; if (naver.search.option.mson) { for (var k in naver.search.option.params) { var v = naver.search.option.params[k] ; option_params = option_params.concat(\"&\" + k + \"=\" + urlencode(v)) ; } } return option_params ; } ; })() ; function nx_set_option_switch (on) { var domain = \"search.naver.com\" ; if (on) { if (1) naver.search.option.mson = 2 ; else naver.search.option.mson = 1 ; nx_set_cookie(\"nx_mson\", naver.search.option.mson, null, domain) ; } else { naver.search.option.mson = 0 ; nx_set_cookie(\"nx_mson\", \"\", new Date(new Date().getTime() - 86400), domain) ; } return on ? true : false ; } </script><div id=\"snb\" style=\"display:none;\"> <div class=\"snb_inner\"> <ul class=\"option_menu\" role=\"tablist\"><li class=\"menu\" role=\"presentation\"> <a aria-selected=\"false\" class=\"m _tab_option_\" href=\"#\" id=\"_nx_search_option_sort_link\" onclick=\"return tCR('a=fno.sortlink');\" role=\"tab\">정렬<i class=\"spnew ico_arr\"></i></a> <div class=\"snb_itembox\"> <iframe frameborder=\"0\" style=\"display:none;display:block\\9;display:block\\0/;position:absolute;top:-1px;left:-1px;z-index:-1;width:100%;height:100%;padding:1px;filter:alpha(opacity=0);opacity:0\" title=\"빈프레임\"></iframe> <ul class=\"lst_choice\" role=\"listbox\"> <li role=\"presentation\"><a aria-selected=\"true\" href=\"#\" onclick=\"nx_searchOptionSelect('so', 'r', 'fno.sortsim'); return false;\" role=\"option\">관련도순</a></li><li role=\"presentation\"><a aria-selected=\"false\" href=\"#\" onclick=\"nx_searchOptionSelect('so', 'dd', 'fno.sortdate'); return false;\" role=\"option\">최신순</a></li> </ul> </div> </li> <li class=\"menu\" role=\"presentation\"> <a aria-selected=\"false\" class=\"m _tab_option_\" href=\"#\" id=\"_nx_search_option_date_link\" onclick=\"return tCR('a=fno.datelink');\" role=\"tab\">기간<i class=\"spnew ico_arr\"></i></a> <div class=\"snb_itembox _search_option_period_\"> <iframe frameborder=\"0\" style=\"display:none;display:block\\9;display:block\\0/;position:absolute;top:-1px;left:-1px;z-index:-1;width:100%;height:100%;padding:1px;filter:alpha(opacity=0);opacity:0\" title=\"빈프레임\"></iframe> <ul class=\"lst_choice\" role=\"listbox\"> <li role=\"presentation\"><a aria-selected=\"true\" href=\"#\" onclick=\"nx_searchOptionSelect('p', 'all', 'fno.dateperiodall'); return false;\" role=\"option\">전체</a></li><li role=\"presentation\"><a aria-selected=\"false\" href=\"#\" onclick=\"nx_searchOptionSelect('p', '1d', 'fno.dateoneday'); return false;\" role=\"option\">1일</a></li><li role=\"presentation\"><a aria-selected=\"false\" href=\"#\" onclick=\"nx_searchOptionSelect('p', '1w', 'fno.dateoneweek'); return false;\" role=\"option\">1주</a></li><li role=\"presentation\"><a aria-selected=\"false\" href=\"#\" onclick=\"nx_searchOptionSelect('p', '1m', 'fno.dateonemonth'); return false;\" role=\"option\">1개월</a></li><li role=\"presentation\"><a aria-selected=\"false\" href=\"#\" onclick=\"nx_searchOptionSelect('p', '1y', 'fno.dateoneyear'); return false;\" role=\"option\">1년</a></li> </ul> <div class=\"item_option set_calendar _box_set_calendar_\"> <p class=\"tit\">직접입력</p> <div class=\"input_box _box_min_\"> <input autocomplete=\"off\" class=\"input_txt _input_text_\" id=\"_nx_date_from\" placeholder=\"\" title=\"검색기간 시작일\" type=\"text\" value=\"\"/> <a class=\"btn_cal _btn_\" href=\"#\" onclick=\"return tCR('a=fno.datecalenderopen');\"><i class=\"spnew ico_cal\">달력 레이어 호출</i></a> </div> <div class=\"input_box _box_max_\"> <input autocomplete=\"off\" class=\"input_txt _input_text_\" id=\"_nx_date_to\" placeholder=\"\" title=\"검색기간 종료일\" type=\"text\" value=\"\"/> <a class=\"btn_cal _btn_\" href=\"#\" onclick=\"return tCR('a=fno.datecalenderopen');\"><i class=\"spnew ico_cal\">달력 레이어 호출</i></a> </div> <div class=\"spnew_bf ly_option_alert _text_alert_\" style=\"display:none;\">잘못된 날짜형식입니다.<br/> <em>(yyyy.mm.dd)</em></div> <span class=\"btn_inp\"><button class=\"_btn_submit_\" type=\"button\"><span class=\"tx\">적용</span></button></span> </div> <div class=\"api_ly_calendar _layer_calendar_\"> <div class=\"h_cal\"> <strong class=\"calendar-title _calendar_title_\">2014.04</strong> <a class=\"bt_pv2 calendar-btn-prev-year _btn_prev_year_\" href=\"#\" onclick=\"return tCR('a=fno.datecalendercheck');\" title=\"이전 년도\"><i class=\"spnew ico_arr\">이전 년도</i></a> <a class=\"bt_pv calendar-btn-prev-mon _btn_prev_month_\" href=\"#\" onclick=\"return tCR('a=fno.datecalendercheck');\" title=\"이전 달\"><i class=\"spnew ico_arr\">이전 달</i></a> <a class=\"bt_nx calendar-btn-next-mon _btn_next_month_\" href=\"#\" onclick=\"return tCR('a=fno.datecalendercheck');\" title=\"다음 달\"><i class=\"spnew ico_arr\">다음 달</i></a> <a class=\"bt_nx2 calendar-btn-next-year _btn_next_year_\" href=\"#\" onclick=\"return tCR('a=fno.datecalendercheck');\" title=\"다음 년도\"><i class=\"spnew ico_arr\">다음 년도</i></a> </div> <div class=\"cal_date\"> <table cellpadding=\"0\" cellspacing=\"0\"> <caption class=\"blind\">기간 설정 달력</caption> <thead> <tr> <th scope=\"col\">일</th> <th scope=\"col\">월</th> <th scope=\"col\">화</th> <th scope=\"col\">수</th> <th scope=\"col\">목</th> <th scope=\"col\">금</th> <th scope=\"col\">토</th> </tr> </thead> <tbody> </tbody> </table> </div> <div class=\"dsc_area\"> <span class=\"date _text_calendar_date_\"></span> <a aria-pressed=\"false\" class=\"btn_today _btn_today_\" href=\"#\" onclick=\"return tCR('a=fno.datecalendertoday');\" role=\"button\">오늘</a> </div> </div> </div> </li> <li class=\"menu\" role=\"presentation\"> <a aria-selected=\"false\" class=\"m _tab_option_\" href=\"#\" id=\"_nx_search_option_area_link\" onclick=\"return tCR('a=fno.alink');\" role=\"tab\">영역<i class=\"spnew ico_arr\"></i></a> <div class=\"snb_itembox\"> <iframe frameborder=\"0\" style=\"display:none;display:block\\9;display:block\\0/;position:absolute;top:-1px;left:-1px;z-index:-1;width:100%;height:100%;padding:1px;filter:alpha(opacity=0);opacity:0\" title=\"빈프레임\"></iframe> <ul class=\"lst_choice\" role=\"listbox\"> <li role=\"presentation\"><a aria-selected=\"true\" href=\"#\" onclick=\"nx_searchOptionSelect('a', 'all', 'fno.areafieldall'); return false;\" role=\"option\">전체</a></li><li role=\"presentation\"><a aria-selected=\"false\" href=\"#\" onclick=\"nx_searchOptionSelect('a', 't', 'fno.areafieldtit'); return false;\" role=\"option\">제목</a></li> </ul> </div> </li><script type=\"text/javascript\"> function nx_searchOptionSelect (type, value, cr_area) { var opt_sort = 'r' ; var opt_period = 'all' ; var opt_area = 'all' ; var sm = 'tab_opt' ; if (type == 'so') { sm = 'tab_srt' ; opt_sort = value ; } else if (type == 'p') { if (value == 'direct') { var from = document.getElementById('_nx_date_from') ; if (!from.value) { from.value = '1990.01.01' ; } var to = document.getElementById('_nx_date_to') ; if (!to.value) { var d = new Date(); to.value = d.getFullYear() + '.' + ((d.getMonth() + 1) < 10 ? \"0\" : \"\") + (d.getMonth() + 1) + '.' + (d.getDate() < 10 ? \"0\" : \"\") + d.getDate() ; } var from_val = from.value.replace(/\\./g, '') ; var to_val = to.value.replace(/\\./g, '') ; if (from_val > to_val) { var tmp_val = from_val ; from_val = to_val ; to_val = tmp_val ; } opt_period = 'from' + from_val + 'to' + to_val ; } else opt_period = value; } else if (type == 'a') { opt_area = value ; } var nso = 'so:' + opt_sort + ',p:' + opt_period + ',a:' + opt_area ; naver.search.option.params[\"nso\"] = nso ; var formElem = document.getElementById('nx_search_form') ; naver.search.option.append_params(formElem) ; formElem.sm.value = urlencode(sm) ; formCR('nx_search_form', cr_area) ; } </script><script> (function() { var startApplication = function() { var jsFileURL = \"https://ssl.pstatic.net/sstatic/au/pc/search_option/SearchOptionTabs_201030.js\"; var require = window.require.config({ \"context\": \"search_option\", \"paths\": { \"SearchOptionTabs\": jsFileURL.replace(/\\.js$/, \"\"), } }); define(\"jquery\", [], function() { return jQuery; }); require([\"SearchOptionTabs\"], function(SearchOptionTabs) { var searchOptionTabs = new SearchOptionTabs.Total( jQuery(\"#snb\")[0], { \"period\": { \"from\": {\"year\": 2020, \"month\": 12, \"date\": 23}, \"to\": {\"year\": 2020, \"month\": 12, \"date\": 23}, \"max\": {\"year\": headerfooter_time_year, \"month\": headerfooter_time_month, \"date\": headerfooter_time_day}, \"min\": {\"year\": 1990, \"month\": 1, \"date\": 1} } }).on({ \"period-submit\": function (e) { if (e.success) { nx_searchOptionSelect(\"p\", \"direct\", \"fno.datecustomapply\"); } else { tCR(\"a=opt.periodinputapply\"); } }, \"period-click-date\": function (e) { tCR(\"a=fno.datecalendercheck\"); } }); }); }; naver.common.load_js(window.require ? null : naver.common.gv.REQUIRE_JS, startApplication, true, 150); })(); </script><li class=\"option_keep\" role=\"presentation\"> <div class=\"option_choice\"> 옵션유지 <a aria-pressed=\"false\" class=\"btn_option _btn_option_persist_\" href=\"#\" role=\"button\"><i class=\"spnew ico_option\">옵션유지</i></a> </div> </li><li class=\"menu\" role=\"presentation\"> <a aria-selected=\"false\" class=\"m _tab_option_\" href=\"#\" onclick=\"return tCR('a=fno.dtslink');\" role=\"tab\">상세검색<i class=\"spnew ico_arr\"></i></a> <div class=\"snb_itembox ly_detailsch _search_option_detail_\" id=\"_nx_option_detail\"> <iframe frameborder=\"0\" style=\"display:none;display:block\\9;display:block\\0/;position:absolute;top:-1px;left:-1px;z-index:-1;width:100%;height:100%;padding:1px;filter:alpha(opacity=0);opacity:0\" title=\"빈프레임\"></iframe> <div class=\"sch_inner\"> <div class=\"sctitle_txt _preview_\"></div> <div class=\"sch_data\"> <dl class=\"sch_option\"> <dt>기본검색</dt> <dd> <div class=\"inp_op\"><input class=\"_input_base_\" title=\"기본검색어 입력\" type=\"text\" value=\"\"/></div> <div class=\"rule_check\"><input class=\"check _checkbox_include_\" id=\"rch\" onclick=\"tCR('a=fno.dtsors');\" type=\"checkbox\"/><label class=\"spnew_bf txt\" for=\"rch\">입력한 단어가 하나이상 포함된 문서 검색</label></div> </dd> </dl> <dl class=\"sch_option\"> <dt>상세검색</dt> <dd> <div class=\"inp_op\"><input class=\"_input_exact_\" placeholder=\"정확히 일치하는 단어/문장(“ “)\" type=\"text\"/></div> <div class=\"inp_op\"><input class=\"_input_include_\" placeholder=\"반드시 포함하는 단어 (+)\" type=\"text\"/></div> <div class=\"inp_op\"><input class=\"_input_exclude_\" placeholder=\"제외하는 단어 (-)\" type=\"text\"/></div> <div class=\"dsc\">여러개의 단어는 <span class=\"tx\">쉼표(,)</span>로 구분해서 입력하세요.<a class=\"link\" href=\"https://help.naver.com/support/alias/search/integration/integration_4.naver\" onclick=\"return goOtherCR(this, 'u='+urlencode(this.href)+'&amp;a=fno.dtshelp');\" target=\"_blank\"><i class=\"spnew api_ico_help\">도움말</i></a></div> </dd> </dl> </div> <div class=\"sch_foot\"> <a class=\"initial _btn_init_\" href=\"#\" onclick=\"return tCR('a=fno.dtsclear');\"><i class=\"spnew ico_init\"></i>초기화</a> <a class=\"btn_search active _btn_search_\" href=\"#\" onclick=\"return tCR('a=fno.dtssrch');\">검색</a> <a class=\"btn_close _btn_close_\" href=\"#\" onclick=\"return tCR('a=fno.dtsclose');\" role=\"button\">닫기</a> </div> </div> </div> </li></ul> </div> </div> <script>\n",
       "\t(function() {\n",
       "\t\tvar startApplication = function() {\n",
       "\t\t\tvar isChecked = nx_set_option_switch(naver.search.option.mson) ;\n",
       "\t\t\tvar jsFileURL = \"https://ssl.pstatic.net/sstatic/au/pc/search_option/SearchOption_201028_a.js\" ;\n",
       "\t\t\tvar require = window.require.config({\n",
       "\t\t\t \"context\": \"search_option\",\n",
       "\t\t\t \"paths\": {\n",
       "\t\t\t\t\"SearchOption\": jsFileURL.replace(/\\.js$/, \"\")\n",
       "\t\t\t\t}\n",
       "\t\t\t});\n",
       "\t\t\tdefine(\"jquery\", [], function() { return jQuery; });\n",
       "\t\t\trequire([\"SearchOption\"], function(SearchOption) {\n",
       "\t\t\t\t/** [AU] 옵션 레이어 초기화\n",
       "\t\t\t\t* 초기화 할 필요가 없는 옵션의 경우 초기화 옵션객체를 생략 하시면 됩니다.\n",
       "\t\t\t\t* ex. 상세옵션 초기화가 필요할 때 { open: true, detail: {...} }\n",
       "\t\t\t\t*     상세옵션 초기화가 필요 없을 때 { open: false }\n",
       "\t\t\t\t*/\n",
       "\t\t\t\tvar searchOption = new SearchOption(\n",
       "\t\t\t\t\tjQuery(\"#search_option_button\")[0],\n",
       "\t\t\t\t\tjQuery(\"#snb\")[0],\n",
       "\t\t\t\t\t{\n",
       "\t\t\t\t\t\t\"open\": false,\n",
       "\t\t\t\t\t\t\"openCookie\": \"nso_open\",\n",
       "\t\t\t\t\t\t\"persist\": {/* 옵션유지 초기화 */\n",
       "\t\t\t\t\t              \"isChecked\": isChecked /* 체크된 상태 */\n",
       "\t\t\t\t\t\t }\n",
       "\t\t\t\t\t\t, \"detail\": { \"base\": \"skswnebo\", \"or\": false, \"exact\": [], \"include\": [], \"exclude\": [] }\n",
       "\t\t\t\t\t}\n",
       "\t\t\t\t).on({\n",
       "\t\t\t\t/* [AU] 옵션유지 클릭시 */\n",
       "\t\t\t\t\"change-persist\": function (e) {\n",
       "\t\t\t\t\tnx_set_option_switch(e.isChecked);\n",
       "\t\t\t\t\ttCR(e.isChecked ? \"a=fno.mson\" : \"a=fno.msoff\");\n",
       "\t\t\t\t}\n",
       "\t\t\t\t, \"detail-submit\": function (e) { var elForm = jQuery(\"#nx_search_form\")[0]; if (!elForm) { return; } if (elForm.sm) { elForm.sm.value = \"tab_dts\"; } if (elForm.query) { elForm.query.value = e.form.preview; } if (elForm.qdt) { elForm.qdt.value = \"1\"; elForm.qdt.disabled = false; } window.naver && naver.search && naver.search.option && naver.search.option && naver.search.option.append_params && naver.search.option.append_params(elForm); elForm.submit(); }\n",
       "\t\t\t});\n",
       "\t\t});\n",
       "\t};\n",
       "\n",
       "\tnaver.common.load_js(window.require ? null : naver.common.gv.REQUIRE_JS, startApplication, true, 150);\n",
       "  })();\n",
       "</script>\n",
       "<script> (function() { var startApplication = function() { var jsFileURL = \"https://ssl.pstatic.net/sstatic/au/pc/tab/SearchTab_201028.js\"; var require = window.require.config({ \"context\": \"search_tab_module\", \"paths\": { \"SearchTab\": jsFileURL.replace(/\\.js$/, \"\"), } }); define(\"jquery\", [], function() { return jQuery; }); require([\"SearchTab\"], function(SearchTab) { var BASE_FLOATING_WIDTH = 1181; var $window = jQuery(window); var $lnb = jQuery(\"#lnb\"); var $headerWrap = jQuery(\"#header_wrap\"); var tab = new SearchTab($window, $lnb) .on(\"checkWindowWidth\", function(e){ if (e.windowWidth >= BASE_FLOATING_WIDTH) { $headerWrap.addClass(\"type_fixed\"); tab.activateFloating(); } else { tab.deactivateFloating(); $headerWrap .removeClass(\"type_fixed\") .removeClass(\"type_hide\"); } }) .on(\"hideTab\", function(){ if (window.g_nx_splugin && typeof window.g_nx_splugin.hide === \"function\") { window.g_nx_splugin.hide(); } }) .on(\"changeState\", function(e){ $headerWrap.toggleClass(\"type_hide\", e.isUnderBaseline); if (e.isUnderBaseline) { $headerWrap.addClass(\"type_animation\"); } }); }); }; naver.common.load_js(window.require ? null : naver.common.gv.REQUIRE_JS, startApplication, true, 150); })(); </script><script type=\"text/javascript\"> naver.search.section = {  \"main2\": [{\"area\": \"htk\", \"rank\": 1}],  \"find_section_list\": function(column, area) { if (!this[column]) return []; return this[column].filter(function(a) { return a.area.indexOf(area) === 0; }); } }; </script></div><script type=\"text/javascript\"> var nx_location_rcode = \"09110151\" ; </script><div id=\"container\" role=\"main\"> <div class=\"pack_group\" id=\"content\"> <h1 class=\"blind\">skswnebo 통합검색 결과</h1> <div class=\"main_pack\" id=\"main_pack\"><script>g_crt+=\"&bt=31\";</script>\n",
       "<div class=\"api_noresult_wrap\" id=\"notfound\"><div class=\"not_found02\"> <p><em>'skswnebo'</em>에 대한 검색결과가 없습니다.</p> <ul> <li>단어의 철자가 정확한지 확인해 보세요.</li> <li>한글을 영어로 혹은 영어를 한글로 입력했는지 확인해 보세요.</li> <li>검색어의 단어 수를 줄이거나, 보다 일반적인 검색어로 다시 검색해 보세요.</li> <li>두 단어 이상의 검색어인 경우, 띄어쓰기를 확인해 보세요. <a href=\"?sm=tab_nex&amp;where=nexearch&amp;query=%EB%84%A4%EC%9D%B4%EB%B2%84+%EB%A7%9E%EC%B6%A4%EB%B2%95+%EA%B2%80%EC%82%AC%EA%B8%B0\" onclick=\"return goOtherCR(this, 'a=nrs.naverlab&amp;r=&amp;i=&amp;u='+urlencode(this.href))\">네이버 맞춤법 검사기</a></li> <li>검색 옵션을 변경해서 다시 검색해 보세요.</li> </ul> </div><div class=\"satisfaction02\"> <p>만족스러운 검색결과를 찾지 못하셨다면 아래 기능도 이용해 보세요.</p> <ul> <li><a href=\"https://kin.naver.com/qna/questionForSearch.nhn?title=skswnebo\" onclick=\"return goOtherCR(this, 'a=usf.kin&amp;r=&amp;i=&amp;u='+urlencode(this.href))\" target=\"_blank\">지식iN에 질문하기</a></li> <li><a href=\"https://help.naver.com/support/alias/search/integration/integration_1.naver\" onclick=\"return goOtherCR(this, 'a=usf.help&amp;r=&amp;i=&amp;u='+urlencode(this.href))\" target=\"_blank\">검색 도움말 보기</a></li> </ul> </div></div></div><div class=\"sub_pack\" id=\"sub_pack\"><div id=\"_missingChildren\" style=\"display:none;\"></div> <script type=\"text/javascript\"> nx_js_lazyload(\"https://ssl.pstatic.net/sstatic/au/s/pc/_search/noresult_missing_children/nhn.search.noresult.missing_children_150428.js\" , function () { new nhn.search.noresult.missing_children.AddOnToSub(jindo.$(\"_missingChildren\"), { sAPI : \"https://m.search.naver.com/p/csearch/content/qapirender.nhn?display=1&pkid=176&q=%EC%8B%A4%EC%A2%85%EC%95%84%EB%8F%99&start=0&where=nexearch\", htRequestOption : { timeout : 3 } }) ; }) ; </script><section class=\"sc_new sp_nkeyword type_news\"> <div class=\"api_subject_bx\"> <div class=\"api_title_area\"> <h2 class=\"api_title\">뉴스토픽</h2> </div> <div class=\"hot_keyword_srch _aside_news_tab\"> <div class=\"keyword_option_wrap\"> <div class=\"rank_tab\" role=\"tablist\"> <a aria-selected=\"true\" class=\"item _tab\" data-index=\"0\" href=\"#\" onclick=\"return tCR('htk.nws', 1, '');\" role=\"tab\"><span class=\"txt\">뉴스</span></a> <a aria-selected=\"false\" class=\"item _tab\" data-index=\"1\" href=\"#\" onclick=\"return tCR('htk.ents', 1, '');\" role=\"tab\"><span class=\"txt\">연예·스포츠</span></a> </div> </div> <div class=\"list_wrap _content\"> <ol class=\"keyword_list\"> <li class=\"bx\"> <em class=\"rank\">1</em> <a class=\"keyword\" href=\"?where=nexearch&amp;sm=tab_htk.nws&amp;ie=utf8&amp;query=%EC%82%B0%EC%97%85%EB%B6%80+%EA%B3%B5%EB%AC%B4%EC%9B%90+3%EB%AA%85+%EA%B8%B0%EC%86%8C\" onclick=\"return goOtherCR(this, 'a=htk.nwslist&amp;r=1&amp;i=&amp;u='+urlencode(urlexpand(this.href)));\"><span class=\"txt\">산업부 공무원 3명 기소</span></a> </li> <li class=\"bx\"> <em class=\"rank\">2</em> <a class=\"keyword\" href=\"?where=nexearch&amp;sm=tab_htk.nws&amp;ie=utf8&amp;query=%EC%9B%94%EC%84%B1%EC%9B%90%EC%A0%84+%EC%9E%90%EB%A3%8C%EC%82%AD%EC%A0%9C\" onclick=\"return goOtherCR(this, 'a=htk.nwslist&amp;r=2&amp;i=&amp;u='+urlencode(urlexpand(this.href)));\"><span class=\"txt\">월성원전 자료삭제</span></a> </li> <li class=\"bx\"> <em class=\"rank\">3</em> <a class=\"keyword\" href=\"?where=nexearch&amp;sm=tab_htk.nws&amp;ie=utf8&amp;query=%ED%95%B4%EB%A7%9E%EC%9D%B4+%EB%AA%85%EC%86%8C+%ED%8F%90%EC%87%84\" onclick=\"return goOtherCR(this, 'a=htk.nwslist&amp;r=3&amp;i=&amp;u='+urlencode(urlexpand(this.href)));\"><span class=\"txt\">해맞이 명소 폐쇄</span></a> </li> <li class=\"bx\"> <em class=\"rank\">4</em> <a class=\"keyword\" href=\"?where=nexearch&amp;sm=tab_htk.nws&amp;ie=utf8&amp;query=%EC%97%AC%EC%84%B1%EC%9D%80+%ED%99%94%EC%9E%A5+%EB%95%8C%EB%AC%B8%EC%97%90\" onclick=\"return goOtherCR(this, 'a=htk.nwslist&amp;r=4&amp;i=&amp;u='+urlencode(urlexpand(this.href)));\"><span class=\"txt\">여성은 화장 때문에</span></a> </li> <li class=\"bx\"> <em class=\"rank\">5</em> <a class=\"keyword\" href=\"?where=nexearch&amp;sm=tab_htk.nws&amp;ie=utf8&amp;query=%ED%98%84%EB%8C%80%EB%AA%A8%EB%B9%84%EC%8A%A4+%EC%95%84%EC%82%B0%EA%B3%B5%EC%9E%A5+%EC%83%9D%EC%82%B0+%EC%A4%91%EB%8B%A8\" onclick=\"return goOtherCR(this, 'a=htk.nwslist&amp;r=5&amp;i=&amp;u='+urlencode(urlexpand(this.href)));\"><span class=\"txt\">현대모비스 아산공장 생산 중단</span></a> </li> </ol> <ol class=\"keyword_list\"> <li class=\"bx\"> <em class=\"rank\">6</em> <a class=\"keyword\" href=\"?where=nexearch&amp;sm=tab_htk.nws&amp;ie=utf8&amp;query=6%EB%AA%85+%EC%B6%94%EA%B0%80+%ED%99%95%EC%A7%84\" onclick=\"return goOtherCR(this, 'a=htk.nwslist&amp;r=6&amp;i=&amp;u='+urlencode(urlexpand(this.href)));\"><span class=\"txt\">6명 추가 확진</span></a> </li> <li class=\"bx\"> <em class=\"rank\">7</em> <a class=\"keyword\" href=\"?where=nexearch&amp;sm=tab_htk.nws&amp;ie=utf8&amp;query=%EA%B3%A0%EB%B3%91%EC%9B%90%EC%84%B1+AI+%ED%99%95%EC%A7%84\" onclick=\"return goOtherCR(this, 'a=htk.nwslist&amp;r=7&amp;i=&amp;u='+urlencode(urlexpand(this.href)));\"><span class=\"txt\">고병원성 AI 확진</span></a> </li> <li class=\"bx\"> <em class=\"rank\">8</em> <a class=\"keyword\" href=\"?where=nexearch&amp;sm=tab_htk.nws&amp;ie=utf8&amp;query=1%EA%B0%80%EA%B5%AC+1%EC%A3%BC%ED%83%9D\" onclick=\"return goOtherCR(this, 'a=htk.nwslist&amp;r=8&amp;i=&amp;u='+urlencode(urlexpand(this.href)));\"><span class=\"txt\">1가구 1주택</span></a> </li> <li class=\"bx\"> <em class=\"rank\">9</em> <a class=\"keyword\" href=\"?where=nexearch&amp;sm=tab_htk.nws&amp;ie=utf8&amp;query=%EC%A1%B0%EA%B5%AD+%EC%9E%AC%ED%8C%90+%EC%98%81%ED%96%A5%EC%9D%80\" onclick=\"return goOtherCR(this, 'a=htk.nwslist&amp;r=9&amp;i=&amp;u='+urlencode(urlexpand(this.href)));\"><span class=\"txt\">조국 재판 영향은</span></a> </li> <li class=\"bx\"> <em class=\"rank\">10</em> <a class=\"keyword\" href=\"?where=nexearch&amp;sm=tab_htk.nws&amp;ie=utf8&amp;query=%EC%A0%95%EA%B2%BD%EC%8B%AC+%EC%8B%A4%ED%98%95\" onclick=\"return goOtherCR(this, 'a=htk.nwslist&amp;r=10&amp;i=&amp;u='+urlencode(urlexpand(this.href)));\"><span class=\"txt\">정경심 실형</span></a> </li> </ol> </div> <div class=\"list_wrap _content\" style=\"display:none\"> <ol class=\"keyword_list\"> <li class=\"bx\"> <em class=\"rank\">1</em> <a class=\"keyword\" href=\"?where=nexearch&amp;sm=tab_htk.ent&amp;ie=utf8&amp;query=%ED%99%8D%EC%A7%84%EC%98%81+%ED%95%99%EC%9C%84%EC%B7%A8%EC%86%8C\" onclick=\"return goOtherCR(this, 'a=htk.entslist&amp;r=1&amp;i=&amp;u='+urlencode(urlexpand(this.href)));\"><span class=\"txt\">홍진영 학위취소</span></a> </li> <li class=\"bx\"> <em class=\"rank\">2</em> <a class=\"keyword\" href=\"?where=nexearch&amp;sm=tab_htk.ent&amp;ie=utf8&amp;query=%EC%A0%95%EB%AA%BD%EA%B7%9C+%EC%B6%95%EA%B5%AC%ED%98%91%ED%9A%8C%EC%9E%A5\" onclick=\"return goOtherCR(this, 'a=htk.entslist&amp;r=2&amp;i=&amp;u='+urlencode(urlexpand(this.href)));\"><span class=\"txt\">정몽규 축구협회장</span></a> </li> <li class=\"bx\"> <em class=\"rank\">3</em> <a class=\"keyword\" href=\"?where=nexearch&amp;sm=tab_htk.ent&amp;ie=utf8&amp;query=%EB%8B%AC%EB%A6%AC%EB%8A%94+%EC%82%AC%EC%9D%B4\" onclick=\"return goOtherCR(this, 'a=htk.entslist&amp;r=3&amp;i=&amp;u='+urlencode(urlexpand(this.href)));\"><span class=\"txt\">달리는 사이</span></a> </li> <li class=\"bx\"> <em class=\"rank\">4</em> <a class=\"keyword\" href=\"?where=nexearch&amp;sm=tab_htk.ent&amp;ie=utf8&amp;query=%EC%A3%BC%EA%B0%84%EC%95%84%EC%9D%B4%EB%8F%8C+%EC%97%94%ED%95%98%EC%9D%B4%ED%94%88\" onclick=\"return goOtherCR(this, 'a=htk.entslist&amp;r=4&amp;i=&amp;u='+urlencode(urlexpand(this.href)));\"><span class=\"txt\">주간아이돌 엔하이픈</span></a> </li> <li class=\"bx\"> <em class=\"rank\">5</em> <a class=\"keyword\" href=\"?where=nexearch&amp;sm=tab_htk.ent&amp;ie=utf8&amp;query=%EB%B9%84%EB%B0%80%EC%9D%98+%EB%82%A8%EC%9E%90+%EC%9D%B4%EC%B1%84%EC%98%81\" onclick=\"return goOtherCR(this, 'a=htk.entslist&amp;r=5&amp;i=&amp;u='+urlencode(urlexpand(this.href)));\"><span class=\"txt\">비밀의 남자 이채영</span></a> </li> </ol> <ol class=\"keyword_list\"> <li class=\"bx\"> <em class=\"rank\">6</em> <a class=\"keyword\" href=\"?where=nexearch&amp;sm=tab_htk.ent&amp;ie=utf8&amp;query=%EC%B0%AC%EB%9E%80%ED%95%9C+%EB%82%B4+%EC%9D%B8%EC%83%9D\" onclick=\"return goOtherCR(this, 'a=htk.entslist&amp;r=6&amp;i=&amp;u='+urlencode(urlexpand(this.href)));\"><span class=\"txt\">찬란한 내 인생</span></a> </li> <li class=\"bx\"> <em class=\"rank\">7</em> <a class=\"keyword\" href=\"?where=nexearch&amp;sm=tab_htk.ent&amp;ie=utf8&amp;query=2TV+%EC%83%9D%EC%83%9D%EC%A0%95%EB%B3%B4\" onclick=\"return goOtherCR(this, 'a=htk.entslist&amp;r=7&amp;i=&amp;u='+urlencode(urlexpand(this.href)));\"><span class=\"txt\">2TV 생생정보</span></a> </li> <li class=\"bx\"> <em class=\"rank\">8</em> <a class=\"keyword\" href=\"?where=nexearch&amp;sm=tab_htk.ent&amp;ie=utf8&amp;query=TV%EB%8A%94+%EC%82%AC%EB%9E%91%EC%9D%84+%EC%8B%A3%EA%B3%A0+%EB%B0%95%EC%A4%80%ED%98%95\" onclick=\"return goOtherCR(this, 'a=htk.entslist&amp;r=8&amp;i=&amp;u='+urlencode(urlexpand(this.href)));\"><span class=\"txt\">TV는 사랑을 싣고 박준형</span></a> </li> <li class=\"bx\"> <em class=\"rank\">9</em> <a class=\"keyword\" href=\"?where=nexearch&amp;sm=tab_htk.ent&amp;ie=utf8&amp;query=%EB%9F%AC%EB%B8%8C%EA%B2%8C%EC%9E%84+%EC%98%B9%EC%84%B1%EC%9A%B0\" onclick=\"return goOtherCR(this, 'a=htk.entslist&amp;r=9&amp;i=&amp;u='+urlencode(urlexpand(this.href)));\"><span class=\"txt\">러브게임 옹성우</span></a> </li> <li class=\"bx\"> <em class=\"rank\">10</em> <a class=\"keyword\" href=\"?where=nexearch&amp;sm=tab_htk.ent&amp;ie=utf8&amp;query=%EB%91%90+%EB%B2%88%EC%A7%B8+%EC%9E%90%EA%B0%80%EA%B2%A9%EB%A6%AC+%ED%99%8D%ED%98%84%ED%9D%AC%EC%97%90\" onclick=\"return goOtherCR(this, 'a=htk.entslist&amp;r=10&amp;i=&amp;u='+urlencode(urlexpand(this.href)));\"><span class=\"txt\">두 번째 자가격리 홍현희에</span></a> </li> </ol> </div> <div class=\"dsc_area\"> <span class=\"time\"><time>2020.12.23. 17:30 ~ 20:30</time> 기준<a class=\"link_help\" href=\"https://help.naver.com/support/alias/search/word/word_3.naver\" onclick=\"return goOtherCR(this, 'a=htk.guide&amp;r=&amp;i=&amp;u='+urlencode(this.href));\" target=\"_blank\"><i class=\"spnew api_ico_help\"></i></a></span> </div> </div> </div> </section> <script type=\"text/javascript\"> (function() { var sJavascriptFile = \"https://ssl.pstatic.net/sstatic/au/pc/realtime_keyword/naver.AsideKeywordTab_201028.js\"; var fnCallback = function() { new naver.AsideKeywordTab(jQuery(\"._aside_news_tab\"), { \"tab\": \"._tab\", \"content\": \"._content\" }); }; naver.common.load_js(sJavascriptFile, fnCallback, true, 150); }()); </script> <script type=\"text/javascript\">var nx_cr_right_area_info=[{ n:\"htk\",r:1 }];</script></div><div class=\"ly_dimmed\"></div> </div> </div><div id=\"footer\"> <div class=\"sub_pack_btm\"> <a class=\"top\" href=\"#\" onclick=\"window.scrollTo(0,0); document.querySelector('#wrap a').focus(); return false;\"><i class=\"spnew ico_top\">맨위로</i></a> </div> <div class=\"footer_group\"> <div class=\"footer_menu\"> <span class=\"inner\"><a class=\"link\" href=\"https://www.naver.com/more.html\" onclick=\"return goOtherCR(this, 'u='+urlencode(this.href)+'&amp;a=fot.sitemap&amp;r=&amp;i=');\" target=\"_blank\">전체서비스</a></span> <span class=\"inner\"><a class=\"link\" href=\"https://policy.naver.com/policy/service.html\" onclick=\"return goOtherCR(this, 'u='+urlencode(this.href)+'&amp;a=fot.policy&amp;r=&amp;i=');\" target=\"_blank\">이용약관</a></span> <span class=\"inner\"><a class=\"link\" href=\"https://policy.naver.com/policy/privacy.html\" onclick=\"return goOtherCR(this, 'u='+urlencode(this.href)+'&amp;a=fot.privacy&amp;r=&amp;i=');\" target=\"_blank\"><strong>개인정보처리방침</strong></a></span> <span class=\"inner\"><a class=\"link\" href=\"https://help.naver.com/support/alias/search/integration/integration_1.naver\" onclick=\"return goOtherCR(this, 'u='+urlencode(this.href)+'&amp;a=fot.help&amp;r=&amp;i=');\" target=\"_blank\">통합검색 고객센터</a></span> <span class=\"inner\"><a class=\"link\" href=\"https://www.navercorp.com/\" onclick=\"return goOtherCR(this, 'u='+urlencode(this.href)+'&amp;a=fot.nhn&amp;r=&amp;i=');\" target=\"_blank\"><i class=\"ico_footer_logo\">© NAVER Corp.</i></a></span> </div> </div> </div> <div class=\"layer_map\" id=\"bck_layer_map\" style=\"left:440px; top:284px; display:none\"> <div class=\"layer_bd\"> <iframe frameborder=\"0\" height=\"373\" marginheight=\"0\" marginwidth=\"0\" name=\"map\" scrolling=\"no\" title=\"약도 보기\" width=\"440\"></iframe> </div> <!--[if IE 6]><iframe title=\"약도 보기\" frameborder=\"0\" width=\"444\" height=\"377\" style=\"position:absolute; left:0; top:0; z-index:10\"></iframe><![endif]--> </div> <script type=\"text/javascript\"> /* [PR] 서비스에서 사용하는 클릭로그함수 설정 */ window.__atcmpCR = function(we, el, name, order, areaCode, rank) { var htAreaCode = __ghtAutoCompleteConfig[\"htAreaCode\"]; if (typeof htAreaCode[name] !== \"undefined\") { var areaCode = htAreaCode[name][0]; var rank = htAreaCode[name][1]; if (areaCode !== \"\") { tCR(\"a=\"+areaCode+\"&u=\"+urlencode(el.href)); /* clickcr(el, areaCode, rank, '', we); */ /* console.log(areaCode + rank); */ } } return false; }; /* [PR] 서비스별로 form submit 전에 처리해야하는 내용은 이곳에 작성해주세요. */ window.__atcmpSubmitBefore = function(elForm) { try { top.nx_form_submit(elForm); } catch (e) { try { nx_form_submit(elForm); } catch (e) {} } }; /* [PR] 각 서비스별 옵션 : 로그인여부는 pr에서 정의필요합니다. */ window.__ghtAutoCompleteConfig = { /* 자동완성 설정 (Top&Bottom) */ \"bLogin\" : false, /* 로그인 여부 */ \"sFromWhere\" : \"nx\", /* 검색 출처 (폼전송시 함께 전송) */ \"htApiUrl\" : { /* 자동완성 API 정보 */ \"sMyKeyword\" : 'https://s.search.naver.com/n/mykeyword/search', \"sAcKeyword\" : \"//ac.search.naver.com/nx/ac\", \"sAcAnsType\" : \"2\" /* 1 : 기존정답형만 lookup (탭검인 경우 1로 설정) */ }, \"ahtOption\": [ { \"sOrder\": \"asc\", /* 정렬방식 (asc/desc) */ \"sFormId\": \"nx_search_form\", /* 폼엘리먼트 ID */ \"sInputId\": \"nx_query\", /* 입력창 엘리먼트 ID */ \"sViewId\": \"nx_autoframe_top\", /* 자동완성 레이어 ID */ \"sViewToggleButtonId\": \"nautocomplete\" /* 레이어토글 버튼 ID */ } ], /* 서비스별 클릭영역코드 매핑정보 (sch.xxx: 검색창영역, sug.xxx: 자동완성 영역, sly.xxx: 최근 검색어 영역)*/ \"htAreaCode\": { \"expand\": ['sch.expand', '0'], /* 우측 역삼각형 펼침 */ \"close\": ['sch.close', '0'], /* 우측 역삼각형 접힘 */ \"ansdirect\": ['sug.ansdirect', ''], /* 정답형 바로가기 (엔터/클릭) */ \"sugoff\": ['sug.sugoff', ''], /* 자동완성 끄기 클릭 */ \"sugon\": ['sug.sugon', ''], /* 자동완성 켜기 클릭 */ \"plus.use\": ['sug.cxon', ''], /* 자동완성 플러스 사용 */ \"plus.unuse\": ['sug.cxoff', ''], /* 자동완성 플러스 사용안함 */ \"saveoff\": ['sug.saveoff', ''], /* 검색어저장 끄기 클릭 */ \"saveon\": ['sug.saveon', ''], /* 검색어저장 켜기 클릭 */ \"rx\": ['sly.rx', ''], /* 최근검색어 개별삭제 클릭 */ \"ralldel\": ['sly.ralldel', ''], /* 최근검색어 전체삭제 클릭 */ \"kwd.expand\": ['sug.plus', ''] /* ↖︎ 버튼 클릭 */ }, /* 서비스별 SM파라미터 매핑정보 * sm파라미터 추가시 https://oss.navercorp.com/sau-pc/naver_autocomplete/issues/19 확인 필요 */ \"htSmParam\" : { \"hty\" : 'tab_hty.top', /* sm 파라미터 초기값 */ \"htyb\" : 'tab_hty.btm', /* sm 파라미터 초기값(검색창 하단) */ \"hst\" : 'tab_sly.hst', /* 최근검색키워드 */ \"prefix\" : 'tab_sug', /* sm 파라미터 서비스별 prefix */ \"top\" : 'tab_sug.top', /* 자동완성키워드 */ \"btm\" : 'tab_sug.btm', /* 자동완성키워드 (역순) */ \"pat\" : 'tab_sug.pat', /* 자동완성키워드 (부분자동완성) */ \"mbk\" : 'tab_sug.mbk', /* 자동완성키워드 (오타교정자동완성) */ \"nlq\" : 'tab_sug.nlq', /* 자연어검색 */ \"asgl\" : 'tab_sug.asgl', /* 1국가번호 (한국 국가번호) */ \"asga\" : 'tab_sug.asga', /* 1국가번호 다른중복지역 */ \"aslt\" : 'tab_sug.aslt', /* 3로또당첨번호 */ \"aspl\" : 'tab_sug.aspl', /* 6연금복권당첨번호 */ \"astm\" : 'tab_sug.astm', /* 7영업시간 (신한은행 영업시간) */ \"ast\" : 'tab_sug.ast', /* 8전화번호 (국세청 전화번호) */ \"ase\" : 'tab_sug.ase', /* 9환율 (엔화환율) */ \"aswt\" : 'tab_sug.aswt', /* 10해외날씨 (일본날씨) */ \"asiw\" : \"tab_sug.asiw\", /* 11국내날씨 (서울날씨) */ \"asis\" : 'tab_sug.asis', /* 12올림픽순위 */ \"extension\" : 'tab_sug.search', /* 검색기반 자동완성 */ \"asct\" : \"tab_sug.asct\" /* 문맥검색키워드 */ } }; </script> <script type=\"text/javascript\"> /* 자동완성 객체 생성 (Top) */ new naver.common.atcmp.naver_web.Controller(__ghtAutoCompleteConfig).attach({ \"onOpen\": function(){ jQuery(\"#header_wrap .search_area\").addClass(\"type_write\"); }, \"onClose\": function(){ jQuery(\"#header_wrap .search_area\").removeClass(\"type_write\"); }, \"onSelect\": function(oCustomEvent) { __atcmpSubmitBefore(oCustomEvent.elForm); }, \"onClickLog\": function(oCustomEvent) { __atcmpCR(oCustomEvent.event, oCustomEvent.element, oCustomEvent.name, oCustomEvent.order, \"\", \"\"); } }); </script> </div> <script type=\"text/javascript\"> (function() { var needFix = navigator.userAgent.toLowerCase().indexOf('webkit') > -1; d = document; if (!needFix || !d.querySelectorAll) return; var toArray = function(list){ var armap=[]; i=0; for(;i<list.length;++i){ armap.push(list[i]); } return Array.prototype.slice.call(armap, 0); } ; window.addEventListener('load', function() { toArray(d.querySelectorAll('#u_skip a')).forEach(function(el) { el.addEventListener('click', function() { var target = d.getElementById(this.href.split('#')[1]); oldTabIndex = target.getAttribute('tabindex'); oldOutlineWidth = d.defaultView.getComputedStyle(target, null).getPropertyValue('outline-width'); target.setAttribute('tabindex', 0); target.style.outlineWidth = 0; target.focus(); if (oldTabIndex === null) target.removeAttribute('tabindex'); else target.setAttribute('tabindex', oldTabIndex); }, false); }); }, false); })(); </script><script type=\"text/javascript\"> if(typeof nx_usain_beacon !== 'undefined') { nx_usain_beacon.add_tag(\"conn_._TLSv1.3_.\") ; $Fn(function () { nx_usain_beacon.send(); }).attach(window, \"load\") ; } </script></body> </html>"
      ]
     },
     "execution_count": 47,
     "metadata": {},
     "output_type": "execute_result"
    }
   ],
   "source": [
    "import requests\n",
    "import bs4\n",
    "url = 'https://search.naver.com/search.naver?sm=tab_hty.top&where=nexearch&query=skswnebo&oquery=%E3%85%93%EC%96%B4%EC%95%84%EB%82%98%EB%84%88%EC%9C%A4%E3%85%81%3B%EB%82%98&tqi=U%2BK%2BadprvxsssjM4cn0ssssstW8-303422'\n",
    "one_page = bs4.BeautifulSoup(requests.get(url).text)\n",
    "# one_page.find, one_page.find_all 이용하여 찾아나설 것입니다."
   ]
  },
  {
   "cell_type": "code",
   "execution_count": null,
   "metadata": {},
   "outputs": [],
   "source": []
  },
  {
   "cell_type": "code",
   "execution_count": null,
   "metadata": {},
   "outputs": [],
   "source": []
  },
  {
   "cell_type": "code",
   "execution_count": null,
   "metadata": {},
   "outputs": [],
   "source": []
  },
  {
   "cell_type": "code",
   "execution_count": null,
   "metadata": {},
   "outputs": [],
   "source": []
  },
  {
   "cell_type": "code",
   "execution_count": null,
   "metadata": {},
   "outputs": [],
   "source": []
  },
  {
   "cell_type": "code",
   "execution_count": null,
   "metadata": {},
   "outputs": [],
   "source": []
  },
  {
   "cell_type": "code",
   "execution_count": null,
   "metadata": {},
   "outputs": [],
   "source": []
  },
  {
   "cell_type": "code",
   "execution_count": null,
   "metadata": {},
   "outputs": [],
   "source": []
  },
  {
   "cell_type": "code",
   "execution_count": null,
   "metadata": {},
   "outputs": [],
   "source": []
  }
 ],
 "metadata": {
  "kernelspec": {
   "display_name": "Python 3",
   "language": "python",
   "name": "python3"
  },
  "language_info": {
   "codemirror_mode": {
    "name": "ipython",
    "version": 3
   },
   "file_extension": ".py",
   "mimetype": "text/x-python",
   "name": "python",
   "nbconvert_exporter": "python",
   "pygments_lexer": "ipython3",
   "version": "3.8.5"
  }
 },
 "nbformat": 4,
 "nbformat_minor": 4
}
